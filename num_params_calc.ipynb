{
 "cells": [
  {
   "cell_type": "code",
   "execution_count": 2,
   "metadata": {},
   "outputs": [
    {
     "name": "stdout",
     "output_type": "stream",
     "text": [
      "Total parameters: 679,936, where:\n",
      " Embedding parameters: 6,656\n",
      " Positional encoding parameters: 8,192\n",
      " Transformer layer parameters: 110,848 * num layers, including:\n",
      " \tMulti-head parameters: 77,824\n",
      " \tFeed-forward parameters: 32,768\n",
      "\tLayerNorm parameters: 256\n"
     ]
    }
   ],
   "source": [
    "vocab_size = 104\n",
    "embed_dim = 64\n",
    "num_heads = 16\n",
    "num_layers = 6\n",
    "ff_mult = 4\n",
    "seq_len = 128\n",
    "\n",
    "# Эмбеддинги токенов\n",
    "embedding_params = vocab_size * embed_dim\n",
    "\n",
    "#positional encoding params\n",
    "positional_encoding_params = embed_dim * seq_len\n",
    "\n",
    "# Один слой трансформера\n",
    "head_dim = embed_dim // num_heads\n",
    "multihead_params = num_heads * (3 * head_dim * embed_dim + embed_dim * embed_dim)  # Q, K, V и final linear\n",
    "ff_params = embed_dim * embed_dim * ff_mult + embed_dim * embed_dim * ff_mult  # Feed-forward\n",
    "layer_norm_params = 2 * embed_dim * 2  # 2 LayerNorm layers per transformer layer\n",
    "transformer_layer_params = multihead_params + ff_params + layer_norm_params\n",
    "\n",
    "# Общее количество параметров\n",
    "total_params = embedding_params + positional_encoding_params + transformer_layer_params * num_layers\n",
    "\n",
    "print(f\"Total parameters: {total_params:,d}, where:\\n\",\n",
    "      f\"Embedding parameters: {embedding_params:,d}\\n\",\n",
    "      f\"Positional encoding parameters: {positional_encoding_params:,d}\\n\",\n",
    "      f\"Transformer layer parameters: {transformer_layer_params:,d} * num layers, including:\\n\",\n",
    "      f\"\\tMulti-head parameters: {multihead_params:,d}\\n\",\n",
    "      f\"\\tFeed-forward parameters: {ff_params:,d}\\n\\tLayerNorm parameters: {layer_norm_params:,d}\")"
   ]
  },
  {
   "cell_type": "code",
   "execution_count": 7,
   "metadata": {},
   "outputs": [
    {
     "data": {
      "text/plain": [
       "['', '']"
      ]
     },
     "execution_count": 7,
     "metadata": {},
     "output_type": "execute_result"
    }
   ],
   "source": [
    "tensor([  5, 380,   5,   1,   2, 263,  85,   5,   1,   2, 164,   5, 279,   1,\n",
    "          2,   7, 261, 274,   1,   2, 178,   1,   3,  23, 222,   1,   2,  11,\n",
    "        335,  56,   1,   2,   6, 161,   1,   2, 129, 117,  28,   1,   2, 235,\n",
    "        279,   1,   3, 235, 279,   1, 114, 114, 114, 114, 114,   2, 114, 114,\n",
    "         92,   2, 102, 102, 102, 102,   2,  65])"
   ]
  },
  {
   "cell_type": "code",
   "execution_count": 2,
   "metadata": {},
   "outputs": [
    {
     "data": {
      "text/plain": [
       "torch.optim.sgd.SGD"
      ]
     },
     "execution_count": 2,
     "metadata": {},
     "output_type": "execute_result"
    }
   ],
   "source": [
    "import torch.optim as optim\n",
    "import torch.nn as nn\n",
    "\n",
    "model = nn.Linear(10, 2)\n",
    "\n",
    "optimizer = optim.SGD(model.parameters(), lr=1e-4) \n",
    "type(optimizer)"
   ]
  }
 ],
 "metadata": {
  "kernelspec": {
   "display_name": "Python 3",
   "language": "python",
   "name": "python3"
  },
  "language_info": {
   "codemirror_mode": {
    "name": "ipython",
    "version": 3
   },
   "file_extension": ".py",
   "mimetype": "text/x-python",
   "name": "python",
   "nbconvert_exporter": "python",
   "pygments_lexer": "ipython3",
   "version": "3.11.7"
  }
 },
 "nbformat": 4,
 "nbformat_minor": 2
}
