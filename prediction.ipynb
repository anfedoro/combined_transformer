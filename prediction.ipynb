{
 "cells": [
  {
   "cell_type": "code",
   "execution_count": 1,
   "metadata": {},
   "outputs": [],
   "source": [
    "import pandas as pd\n",
    "import yfinance as yf\n",
    "import plotly.graph_objects as go\n",
    "import numpy as np\n",
    "from create_vocab import tokenize_word\n",
    "import json\n",
    "import torch\n",
    "#from nq_llm_decoder import AutoregressionDecoderModel"
   ]
  },
  {
   "cell_type": "code",
   "execution_count": 86,
   "metadata": {},
   "outputs": [
    {
     "name": "stdout",
     "output_type": "stream",
     "text": [
      "[*********************100%%**********************]  1 of 1 completed\n"
     ]
    }
   ],
   "source": [
    "# load 1 min NQ data from yfinance\n",
    "nq = yf.download(tickers='NQ=F', period='max', interval='1m')\n",
    "nq.drop(['Adj Close'], axis=1, inplace=True)\n",
    "nq.columns = ['open', 'high', 'low', 'close', 'volume']\n",
    "\n"
   ]
  },
  {
   "cell_type": "code",
   "execution_count": 87,
   "metadata": {},
   "outputs": [],
   "source": [
    "nq.loc[nq['volume'] == 0, 'volume'] = 1"
   ]
  },
  {
   "cell_type": "code",
   "execution_count": 88,
   "metadata": {},
   "outputs": [],
   "source": [
    "def count_moves(df, tick_size):\n",
    "    df['body_size'] = (abs(df['close'] - df['open']) /tick_size).astype(int)\n",
    "    df['top_wick'] = ((df['high'] - df[['open', 'close']].max(axis=1)) /tick_size).astype(int)\n",
    "    df['bottom_wick'] = ((df[['open', 'close']].min(axis=1) - df['low']) /tick_size).astype(int)\n",
    "    df['direction'] = np.sign(df['close'] - df['open']).astype(int)\n",
    "    df['gap_size'] = (abs(df['open'] - df['close'].shift(1)) /tick_size)\n",
    "    df['gap_direction'] = np.sign(df['open'] - df['close'].shift(1))\n",
    "    df.fillna(0, inplace=True)\n",
    "    df['gap_size'] = df['gap_size'].astype(int)\n",
    "    df['gap_direction'] = df['gap_direction'].astype(int)\n",
    "    df['hour_start'] = (df.index.minute == 0).astype(int)\n",
    "    df['15min_start'] = (((df.index.minute % 15) == 0).astype(int) * (df.index.minute // 15)).isin(range(1,4)).astype(int)\n",
    "    df['5min_start'] = (((df.index.minute % 5) == 0).astype(int) * (df.index.minute // 5)).isin(range(1,12)).astype(int)\n",
    "    df['volume_per_tick'] = np.where((df['body_size'] + df['top_wick'] + df['bottom_wick']) >0, np.ceil(df['volume'] / (df['body_size'] + df['top_wick'] + df['bottom_wick'])), 0)\n",
    "    return df\n",
    "\n",
    "def create_move(row, tick_size):\n",
    "    if row['hour_start'] == 1:\n",
    "        move = 'H'\n",
    "    elif row['15min_start'] == 1:\n",
    "        move = 'Q'\n",
    "    elif row['5min_start'] == 1:\n",
    "        move = 'F'\n",
    "    else:\n",
    "        move = 'M'\n",
    "        \n",
    "    if row['gap_direction'] == 1: # if there is gap up after the candle\n",
    "        move = move + 'G' * int(row['gap_size'])\n",
    "    elif row['gap_direction'] == -1: # if there is gap down after the candle\n",
    "        move =  move + 'g' * int(row['gap_size'])\n",
    "        \n",
    "    if row['direction'] == 1 or row['direction'] == 0: # green candle. Assume doji is green\n",
    "        move =  move + 'D' * int(row['bottom_wick']) + 'U' * int(row['bottom_wick'] + row['body_size'] + row['top_wick']) + 'D' * int(row['top_wick'])\n",
    "    else: # red candle\n",
    "        move = move + 'U' * int(row['bottom_wick']) + 'D' * int(row['bottom_wick'] + row['body_size'] + row['top_wick']) + 'U' * int(row['top_wick'])\n",
    "    \n",
    "    return move + 'E'\n",
    "\n",
    "\n",
    "def create_move1(row, tick_size):\n",
    "    if row['hour_start'] == 1:\n",
    "        move = 'H'\n",
    "    elif row['15min_start'] == 1:\n",
    "        move = 'Q'\n",
    "    elif row['5min_start'] == 1:\n",
    "        move = 'F'\n",
    "    else:\n",
    "        move = 'M'\n",
    "\n",
    "    if row['gap_direction'] == 1: # if there is gap up after the candle\n",
    "        move = move + 'G' + str(int(row['gap_size'])) + ''\n",
    "    elif row['gap_direction'] == -1: # if there is gap down after the candle\n",
    "        move =  move + 'g' + str(int(row['gap_size'])) + ''\n",
    "\n",
    "    if row['direction'] == 1 or row['direction'] == 0: # green candle. Assume doji is green\n",
    "        move =  move + 'D' + str(int(row['bottom_wick'])) + 'U' + str(int(row['bottom_wick'] + row['body_size'] + row['top_wick'])) + 'D' + str(int(row['top_wick'])) + ''\n",
    "    else: # red candle\n",
    "        move = move + 'U' + str(int(row['bottom_wick'])) + 'D' + str(int(row['bottom_wick'] + row['body_size'] + row['top_wick'])) + 'U' + str(int(row['top_wick'])) + ''\n",
    "    \n",
    "     \n",
    "    move = move + 'V' + str(int(row['volume_per_tick'])) + 'E'\n",
    "    return move\n"
   ]
  },
  {
   "cell_type": "code",
   "execution_count": 89,
   "metadata": {},
   "outputs": [],
   "source": [
    "tick_size = 0.25\n",
    "nq = count_moves(nq, tick_size)\n",
    "nq['move'] = nq.apply(lambda row: create_move1(row, tick_size), axis=1)\n"
   ]
  },
  {
   "cell_type": "code",
   "execution_count": 90,
   "metadata": {},
   "outputs": [],
   "source": [
    "\n",
    "moves_data = nq['move'].tolist()\n"
   ]
  },
  {
   "cell_type": "code",
   "execution_count": 91,
   "metadata": {},
   "outputs": [
    {
     "name": "stdout",
     "output_type": "stream",
     "text": [
      "Tokenizing data...\n"
     ]
    }
   ],
   "source": [
    "vocab_file = 'data/NQ_vocab_vol_99.json'\n",
    "tok_to_idx_file = 'data/NQ_tok_to_idx_vol_100.json'\n",
    "idx_to_tok_file = 'data/NQ_idx_to_tok_vol_100.json'\n",
    "\n",
    "#load vocab and tok_to_idx\n",
    "with open(vocab_file, 'r') as f:\n",
    "        vocab = json.load(f)\n",
    "    \n",
    "#change vocab keys from str to int\n",
    "vocab = {int(k):v for k,v in vocab.items()}\n",
    "vocab = dict(sorted(vocab.items(), reverse=True))\n",
    "#vocab_size = sum(len(v) for v in vocab.values()) +1\n",
    "vocab_size = 62\n",
    "\n",
    "with open(tok_to_idx_file, 'r') as f:\n",
    "        token_to_idx = json.load(f)\n",
    "\n",
    "with open(idx_to_tok_file, 'r') as f:\n",
    "        idx_to_token = json.load(f)\n",
    "\n",
    "\n",
    "print('Tokenizing data...')\n",
    "tokens = [tokenize_word(word, vocab) for word in moves_data]\n",
    "        "
   ]
  },
  {
   "cell_type": "code",
   "execution_count": 92,
   "metadata": {},
   "outputs": [
    {
     "name": "stdout",
     "output_type": "stream",
     "text": [
      "Encoding tokens...\n"
     ]
    }
   ],
   "source": [
    "print('Encoding tokens...')\n",
    "encoded_tokens = []\n",
    "for token in tokens:\n",
    "    encoded_tokens.extend([token_to_idx[t] for t in token])"
   ]
  },
  {
   "cell_type": "code",
   "execution_count": 93,
   "metadata": {},
   "outputs": [],
   "source": [
    "import torch.nn as nn\n",
    "class AutoregressionDecoderModel(nn.Module):\n",
    "    def __init__(self, vocab_size, seq_len, embed_dim, num_heads, num_layers, dropout=0.1, ff_mult=4, global_tokens=None):\n",
    "        super(AutoregressionDecoderModel, self).__init__()\n",
    "        self.embedding = nn.Embedding(vocab_size, embed_dim, padding_idx=0,)\n",
    "        self.pos_encoder = nn.Embedding(seq_len, embed_dim, padding_idx=0) \n",
    "        #self.pos_encoder = PositionalEncoding(embed_dim, dropout, seq_len)\n",
    "        self.decoder_layer = nn.TransformerDecoderLayer(embed_dim, num_heads, embed_dim*ff_mult, dropout, batch_first=True)\n",
    "        self.decoder = nn.TransformerDecoder(self.decoder_layer, num_layers)\n",
    "        self.output_layer = nn.Linear(embed_dim, vocab_size)\n",
    "        self.global_tokens = global_tokens\n",
    "        \n",
    "        self.embed_dim = embed_dim\n",
    "        self.apply(self._init_weights)\n",
    "\n",
    "    def _init_weights(self, module):\n",
    "        if isinstance(module, nn.Linear):\n",
    "            nn.init.xavier_uniform_(module.weight, gain=nn.init.calculate_gain('relu'))\n",
    "            if module.bias is not None:\n",
    "                nn.init.constant_(module.bias, 0)\n",
    "        if isinstance(module, nn.Embedding):\n",
    "            nn.init.normal_(module.weight, mean=0, std=0.05)\n",
    "        if isinstance(module, nn.LayerNorm):\n",
    "            nn.init.constant_(module.bias, 0)\n",
    "            nn.init.constant_(module.weight, 1.0)\n",
    "        if isinstance(module, nn.BatchNorm1d):\n",
    "            nn.init.constant_(module.bias, 0)\n",
    "            nn.init.constant_(module.weight, 1.0)\n",
    "\n",
    "\n",
    "    def forward(self, src):\n",
    "        positions = torch.arange(0, src.size(1)).unsqueeze(0).to(src.device)\n",
    "        x = self.embedding(src) + self.pos_encoder(positions)\n",
    "        #x = self.embedding(src)\n",
    "        #x = self.pos_encoder(x)\n",
    "        tgt_mask = torch.nn.Transformer.generate_square_subsequent_mask(x.size(1),)\n",
    "        \n",
    "        tgt_mask = tgt_mask.to(src.device)\n",
    "        output = self.decoder(x, x, tgt_mask=tgt_mask)\n",
    "        output = self.output_layer(output)\n",
    "        if self.global_tokens != None:\n",
    "            output = output[:,self.global_tokens:,:-self.global_tokens*10]\n",
    "\n",
    "        return output"
   ]
  },
  {
   "cell_type": "code",
   "execution_count": 103,
   "metadata": {},
   "outputs": [],
   "source": [
    "\n",
    "global_tokens = 2\n",
    "vocab_size = 117\n",
    "embed_dim = 64\n",
    "num_heads = 8\n",
    "num_layers = 8\n",
    "dropout = 0.1\n",
    "ff_mult = 4\n",
    "seq_len = 98\n",
    "model_path = 'models/nq-llm_decoder_bpe_vol_100_best.pth'\n",
    "\n",
    "model = AutoregressionDecoderModel(vocab_size, seq_len, embed_dim, num_heads, num_layers, dropout, ff_mult, global_tokens)\n",
    "checkpoint = torch.load(model_path, map_location=torch.device('cpu'))\n",
    "model.load_state_dict(checkpoint['model_state_dict'])\n",
    "model.eval();"
   ]
  },
  {
   "cell_type": "code",
   "execution_count": 134,
   "metadata": {},
   "outputs": [
    {
     "data": {
      "text/plain": [
       "tensor([[116, 106,   2,  28,  36,  59,   5,  46,   1,  11,  45,  23,  34,  51,\n",
       "           1,   2,  33,   5,  56,  22,  49,   1,   2,  27,  21,  69,  10,  38,\n",
       "           1,   2,  27,  40,   3,  23,   9,  41,   1,   2,   6,  69,  43,  49,\n",
       "           1,  44,  40,   4,  24,   8,  38,   1,   2,  62,  16,  45,  20,  12,\n",
       "          38,   1,   2,   8,   3,  23,   9,  25,   1,   2,   9,  56,   9,  58,\n",
       "           1,   2,  61,  71,   8,  51,   1,  11,  34,  78,  21,  46,   1,   2,\n",
       "          52,   5,   3,  26,   9,  41,   1,   2,  32,  60,  76,   5,  96,   1]])"
      ]
     },
     "execution_count": 134,
     "metadata": {},
     "output_type": "execute_result"
    }
   ],
   "source": [
    "input_data = torch.tensor(encoded_tokens).unsqueeze(0)\n",
    "input_seq = input_data[:, -98:]\n",
    "glob_0 = range(97,107)\n",
    "glob_1 = range(107,117)\n",
    "input_seq[:,0] = glob_1[-1]\n",
    "input_seq[:,1] = glob_0[-1]\n",
    "input_seq"
   ]
  },
  {
   "cell_type": "code",
   "execution_count": 218,
   "metadata": {},
   "outputs": [
    {
     "data": {
      "text/plain": [
       "(tensor([[116, 106,  45,  16,  34,  41,   1,   2,  33,  45,  16,  34,  41,   1,\n",
       "           11,  33,  45,  16,  34,  41,   1,   2,  33,  45,  16,  34,  41,   1,\n",
       "            2,  33,  45,  16,  34,  41,   1,   2,  33,  45,  16,  34,  41,   1,\n",
       "            2,  33,  45,  16,  34,  41,   1,  11,  33,  45,  16,  34,  41,   1,\n",
       "            2,  33,  45,  16,  34,  41,   1,   2,  33,  45,  16,  34,  41,   1,\n",
       "            2,  33,  45,  16,  34,  41,   1,   2,  33,  45,  16,  34,  41,   1,\n",
       "           44,  33,  45,  16,  34,  41,   1,   2,  33,  45,  16,  34,  41,   1]]),\n",
       " tensor([45, 16, 34, 41,  1,  2, 33, 45, 16, 34, 41,  1, 11, 33, 45, 16, 34, 41,\n",
       "          1,  2, 33, 45, 16, 34, 41,  1,  2, 33, 45, 16, 34, 41,  1,  2, 33, 45,\n",
       "         16, 34, 41,  1,  2, 33, 45, 16, 34, 41,  1, 11, 33, 45, 16, 34, 41,  1,\n",
       "          2, 33, 45, 16, 34, 41,  1,  2, 33, 45, 16, 34, 41,  1,  2, 33, 45, 16,\n",
       "         34, 41,  1,  2, 33, 45, 16, 34, 41,  1, 44, 33, 45, 16, 34, 41,  1,  2,\n",
       "         33, 45, 16, 34, 41,  1]))"
      ]
     },
     "execution_count": 218,
     "metadata": {},
     "output_type": "execute_result"
    }
   ],
   "source": [
    "\n",
    "with torch.inference_mode():\n",
    "    iter = 0\n",
    "    prediction = torch.tensor([0])\n",
    "    while prediction[-1] != 1:\n",
    "        output = model(input_seq)        \n",
    "        prediction = torch.softmax(output, dim=2).argmax(dim=2).squeeze()\n",
    "        input_seq[0, 2:] = prediction\n",
    "        iter += 1\n",
    "\n",
    "        \n",
    "input_seq, prediction                \n"
   ]
  },
  {
   "cell_type": "code",
   "execution_count": 107,
   "metadata": {},
   "outputs": [
    {
     "data": {
      "text/plain": [
       "(tensor([33,  5, 56, 22, 49,  1,  2, 27, 21, 69, 10, 38,  1,  2, 27, 40,  3, 23,\n",
       "          9, 41,  1,  2,  6, 69, 43, 49,  1, 44, 40,  4, 24,  8, 38,  1,  2, 62,\n",
       "         16, 45, 20, 12, 38,  1,  2,  8,  3, 23,  9, 25,  1,  2,  9, 56,  9, 58,\n",
       "          1,  2, 61, 71,  8, 51,  1, 11, 34, 78, 21, 46,  1,  2, 52,  5,  3, 26,\n",
       "          9, 41,  1,  2, 32, 60, 76,  5, 96,  1,  2, 32, 45, 23, 34, 41,  1,  2,\n",
       "         32, 45, 23, 34, 41,  1]),\n",
       " 0)"
      ]
     },
     "execution_count": 107,
     "metadata": {},
     "output_type": "execute_result"
    }
   ],
   "source": [
    ", iter"
   ]
  },
  {
   "cell_type": "code",
   "execution_count": 82,
   "metadata": {},
   "outputs": [
    {
     "data": {
      "text/plain": [
       "['D5',\n",
       " 'V7',\n",
       " 'E',\n",
       " 'M',\n",
       " 'G2',\n",
       " 'U3',\n",
       " 'D11',\n",
       " 'U3',\n",
       " 'V7',\n",
       " 'E',\n",
       " 'F',\n",
       " 'g',\n",
       " '4',\n",
       " 'U4',\n",
       " 'D16',\n",
       " 'U5',\n",
       " 'V8',\n",
       " 'E',\n",
       " 'M',\n",
       " 'G2',\n",
       " 'U8',\n",
       " 'D15',\n",
       " 'U2',\n",
       " 'V8',\n",
       " 'E',\n",
       " 'M',\n",
       " 'g2',\n",
       " 'U13',\n",
       " 'D2',\n",
       " '7',\n",
       " 'U0',\n",
       " 'V11',\n",
       " 'E',\n",
       " 'M',\n",
       " 'g1U1',\n",
       " '3',\n",
       " 'D3',\n",
       " '0',\n",
       " 'U7',\n",
       " 'V9',\n",
       " 'E',\n",
       " 'M',\n",
       " 'g1',\n",
       " 'D0U1',\n",
       " '8',\n",
       " 'D4',\n",
       " 'V6',\n",
       " 'E',\n",
       " 'F',\n",
       " 'g1D1',\n",
       " 'U8',\n",
       " 'D7',\n",
       " 'V1',\n",
       " 'E',\n",
       " 'M',\n",
       " 'g2',\n",
       " 'D0U1',\n",
       " '2',\n",
       " 'D5',\n",
       " 'V7',\n",
       " 'E',\n",
       " 'M',\n",
       " 'g2',\n",
       " 'D0U1',\n",
       " '2',\n",
       " 'D6',\n",
       " 'V7',\n",
       " 'E',\n",
       " 'M',\n",
       " 'g2',\n",
       " 'D0U1',\n",
       " '2',\n",
       " 'D6',\n",
       " 'V7',\n",
       " 'E',\n",
       " 'M',\n",
       " 'g2',\n",
       " 'D0U1',\n",
       " '2',\n",
       " 'D6',\n",
       " 'V7',\n",
       " 'E',\n",
       " 'Q',\n",
       " 'g2',\n",
       " 'D0U1',\n",
       " '2',\n",
       " 'D6',\n",
       " 'V7',\n",
       " 'E',\n",
       " 'M',\n",
       " 'g2',\n",
       " 'D0U1',\n",
       " '2',\n",
       " 'D6',\n",
       " 'V7',\n",
       " 'E']"
      ]
     },
     "execution_count": 82,
     "metadata": {},
     "output_type": "execute_result"
    }
   ],
   "source": [
    "\n",
    "#convert indexes to tokens\n",
    "best_prediction_tokens = [idx_to_token[str(idx.item())] for idx in best_prediction[:]]\n",
    "best_prediction_tokens"
   ]
  },
  {
   "cell_type": "code",
   "execution_count": 12,
   "metadata": {},
   "outputs": [],
   "source": [
    "def predict_candle(model, input_data, idx_to_token):\n",
    "    with torch.inference_mode():\n",
    "        output = model(input_data)\n",
    "        prediction = torch.softmax(output, dim=2).argmax(dim=2).squeeze()\n",
    "\n",
    "        probability = [torch.softmax(output, dim=2).squeeze()[-1][prediction[-1]].item()]\n",
    "        iter = 1\n",
    "    \n",
    "        while prediction[-1] != 1 and iter < 10:\n",
    "            \n",
    "            output = model(prediction.unsqueeze(0))\n",
    "            prob = torch.softmax(output, dim=2).squeeze()\n",
    "            prediction = prob.argmax(dim=1)\n",
    "            probability.append((prob[-1][prediction[-1]]).item())\n",
    "            iter += 1\n",
    "            print(prediction[-1])\n",
    "        #input_data, prediction[-iter:]\n",
    "\n",
    "    #decode prediction\n",
    "    decoded = []\n",
    "    for idx in prediction[-iter:]:\n",
    "        decoded.append(idx_to_token[str(idx.item())])\n",
    "    return decoded, prediction"
   ]
  },
  {
   "cell_type": "code",
   "execution_count": 2,
   "metadata": {},
   "outputs": [],
   "source": [
    "def restore_candle (last_close, time, decoded, tick_size):\n",
    "    move = ''.join(decoded[1:-1])\n",
    "    \n",
    "    \n",
    "    price = [last_close]\n",
    "    for step in move:\n",
    "        if step == 'g':\n",
    "            price[0] -= tick_size\n",
    "        elif step == 'G':\n",
    "            price[0] += tick_size\n",
    "        elif step == 'U':\n",
    "            price.append(price[-1] + tick_size)\n",
    "        elif step == 'D':\n",
    "            price.append(price[-1] - tick_size)\n",
    "    open = price[0]    \n",
    "    close = price[-1]\n",
    "    high = max(price)\n",
    "    low = min(price)    \n",
    "    time = time + pd.Timedelta(minutes=1)\n",
    "    df = pd.DataFrame({'open':open, 'high':high, 'low':low, 'close':close, 'move':move}, index=[time])\n",
    "    return df\n",
    "import re\n",
    "def expand_prediction(s):\n",
    "    s = s[1:-1]\n",
    "    result = ''\n",
    "    matches = re.findall(r'([A-Za-z])(\\d+)', s)\n",
    "    for match in matches:\n",
    "        letter, number = match\n",
    "        result += letter * int(number)\n",
    "    else:\n",
    "        result = None \n",
    "    return result\n",
    "\n",
    "a = expand_prediction('44444444')"
   ]
  },
  {
   "cell_type": "code",
   "execution_count": 31,
   "metadata": {},
   "outputs": [
    {
     "name": "stdout",
     "output_type": "stream",
     "text": [
      "tensor(12)\n",
      "tensor(34)\n"
     ]
    },
    {
     "name": "stdout",
     "output_type": "stream",
     "text": [
      "tensor(34)\n",
      "tensor(34)\n",
      "tensor(34)\n",
      "tensor(34)\n",
      "tensor(34)\n",
      "tensor(34)\n",
      "tensor(34)\n",
      "tensor(34)\n",
      "tensor(34)\n",
      "tensor(34)\n",
      "tensor(34)\n",
      "tensor(34)\n",
      "tensor(34)\n",
      "tensor(34)\n",
      "tensor(34)\n",
      "tensor(34)\n",
      "tensor(34)\n"
     ]
    }
   ],
   "source": [
    "#predict and restore next 5 candles\n",
    "nq.dropna(inplace=True)\n",
    "number_of_candles = 1\n",
    "\n",
    "#predicting first candle\n",
    "decoded, prediction = predict_candle(model, input_data, idx_to_token)\n",
    "# new_candle = restore_candle(nq['close'].iloc[-1], nq.index[-1], decoded, tick_size)\n",
    "# nq = pd.concat([nq, new_candle])\n",
    "\n",
    "\n",
    "# #predicting next candles\n",
    "# for i in range(number_of_candles-1):\n",
    "#     decoded, prediction = predict_candle(model, prediction.unsqueeze(0), idx_to_token)\n",
    "#     new_candle = restore_candle(nq['close'].iloc[-1], nq.index[-1], decoded, tick_size)\n",
    "#     nq = pd.concat([nq, new_candle])\n"
   ]
  },
  {
   "cell_type": "code",
   "execution_count": 32,
   "metadata": {},
   "outputs": [
    {
     "data": {
      "application/vnd.plotly.v1+json": {
       "config": {
        "plotlyServerURL": "https://plot.ly"
       },
       "data": [
        {
         "close": [
          17605,
          17603.5,
          17605.25,
          17603.25,
          17608.75,
          17607.5,
          17601.5,
          17605.25,
          17606,
          17612.25,
          17612.75,
          17610.5,
          17611.75,
          17611,
          17611.75,
          17614.5,
          17616.5,
          17616.5,
          17616.25,
          17616,
          17616.25,
          17615.75,
          17615.25,
          17616.75,
          17615,
          17614.5,
          17616,
          17617.5,
          17619.75,
          17619.25,
          17619,
          17617.5,
          17618,
          17615.75,
          17616.5,
          17618,
          17613.75,
          17613.5,
          17614,
          17614,
          17615.25,
          17615.25,
          17616.75,
          17617.5,
          17617,
          17615.25,
          17616.25,
          17616.5,
          17617.5,
          17624.25
         ],
         "high": [
          17605.75,
          17605,
          17605.75,
          17605.75,
          17610.25,
          17612.5,
          17607.75,
          17606.25,
          17607.75,
          17612.25,
          17613.75,
          17613,
          17612.5,
          17611.5,
          17613,
          17614.75,
          17617,
          17617,
          17617.5,
          17617.25,
          17616.25,
          17617.25,
          17616,
          17617.75,
          17616.5,
          17615.75,
          17616.5,
          17621.75,
          17620.5,
          17621,
          17619.75,
          17619.75,
          17619.25,
          17618.5,
          17617.75,
          17618.25,
          17618,
          17616,
          17614.25,
          17615.5,
          17616.5,
          17615.25,
          17617.25,
          17617.75,
          17618.5,
          17616.75,
          17616.5,
          17616.75,
          17617.75,
          17624.25
         ],
         "low": [
          17604.25,
          17603.5,
          17603,
          17603,
          17603.5,
          17607.25,
          17600.75,
          17602.25,
          17604.75,
          17606.5,
          17611,
          17610,
          17610.25,
          17610.5,
          17610.5,
          17612,
          17614.5,
          17615,
          17615,
          17615.5,
          17614,
          17615.75,
          17614.5,
          17615,
          17614.75,
          17614.25,
          17614.5,
          17615.75,
          17617.5,
          17618,
          17619,
          17617.5,
          17617.25,
          17615.75,
          17615.75,
          17615.75,
          17612,
          17613.5,
          17612.5,
          17613,
          17614,
          17613.5,
          17616,
          17615.25,
          17616.75,
          17614.25,
          17614.75,
          17615.75,
          17615.5,
          17616.5
         ],
         "open": [
          17605.5,
          17604.75,
          17603.25,
          17605,
          17603.5,
          17609.25,
          17607.75,
          17602.5,
          17605.75,
          17606.5,
          17612.5,
          17613,
          17610.75,
          17611.25,
          17611,
          17612,
          17614.75,
          17616.25,
          17616.5,
          17616.25,
          17616,
          17616.75,
          17615.25,
          17615.5,
          17616.25,
          17614.75,
          17614.5,
          17615.75,
          17617.5,
          17620,
          17619.5,
          17619.5,
          17617.75,
          17618,
          17616.5,
          17616.5,
          17617.5,
          17613.75,
          17613.75,
          17613.25,
          17614.5,
          17614.5,
          17616,
          17616.25,
          17617.5,
          17616.75,
          17614.75,
          17616,
          17616.5,
          17617.5
         ],
         "type": "candlestick",
         "x": [
          "2024-01-24T00:56:00-05:00",
          "2024-01-24T00:57:00-05:00",
          "2024-01-24T00:58:00-05:00",
          "2024-01-24T00:59:00-05:00",
          "2024-01-24T01:00:00-05:00",
          "2024-01-24T01:01:00-05:00",
          "2024-01-24T01:02:00-05:00",
          "2024-01-24T01:03:00-05:00",
          "2024-01-24T01:04:00-05:00",
          "2024-01-24T01:05:00-05:00",
          "2024-01-24T01:06:00-05:00",
          "2024-01-24T01:07:00-05:00",
          "2024-01-24T01:08:00-05:00",
          "2024-01-24T01:09:00-05:00",
          "2024-01-24T01:10:00-05:00",
          "2024-01-24T01:11:00-05:00",
          "2024-01-24T01:12:00-05:00",
          "2024-01-24T01:13:00-05:00",
          "2024-01-24T01:14:00-05:00",
          "2024-01-24T01:15:00-05:00",
          "2024-01-24T01:16:00-05:00",
          "2024-01-24T01:17:00-05:00",
          "2024-01-24T01:18:00-05:00",
          "2024-01-24T01:19:00-05:00",
          "2024-01-24T01:20:00-05:00",
          "2024-01-24T01:21:00-05:00",
          "2024-01-24T01:22:00-05:00",
          "2024-01-24T01:23:00-05:00",
          "2024-01-24T01:24:00-05:00",
          "2024-01-24T01:25:00-05:00",
          "2024-01-24T01:26:00-05:00",
          "2024-01-24T01:27:00-05:00",
          "2024-01-24T01:28:00-05:00",
          "2024-01-24T01:29:00-05:00",
          "2024-01-24T01:30:00-05:00",
          "2024-01-24T01:31:00-05:00",
          "2024-01-24T01:32:00-05:00",
          "2024-01-24T01:33:00-05:00",
          "2024-01-24T01:34:00-05:00",
          "2024-01-24T01:35:00-05:00",
          "2024-01-24T01:36:00-05:00",
          "2024-01-24T01:37:00-05:00",
          "2024-01-24T01:38:00-05:00",
          "2024-01-24T01:39:00-05:00",
          "2024-01-24T01:40:00-05:00",
          "2024-01-24T01:41:00-05:00",
          "2024-01-24T01:42:00-05:00",
          "2024-01-24T01:43:00-05:00",
          "2024-01-24T01:44:00-05:00",
          "2024-01-24T01:45:00-05:00"
         ]
        }
       ],
       "layout": {
        "autosize": false,
        "height": 700,
        "template": {
         "data": {
          "bar": [
           {
            "error_x": {
             "color": "#2a3f5f"
            },
            "error_y": {
             "color": "#2a3f5f"
            },
            "marker": {
             "line": {
              "color": "#E5ECF6",
              "width": 0.5
             },
             "pattern": {
              "fillmode": "overlay",
              "size": 10,
              "solidity": 0.2
             }
            },
            "type": "bar"
           }
          ],
          "barpolar": [
           {
            "marker": {
             "line": {
              "color": "#E5ECF6",
              "width": 0.5
             },
             "pattern": {
              "fillmode": "overlay",
              "size": 10,
              "solidity": 0.2
             }
            },
            "type": "barpolar"
           }
          ],
          "carpet": [
           {
            "aaxis": {
             "endlinecolor": "#2a3f5f",
             "gridcolor": "white",
             "linecolor": "white",
             "minorgridcolor": "white",
             "startlinecolor": "#2a3f5f"
            },
            "baxis": {
             "endlinecolor": "#2a3f5f",
             "gridcolor": "white",
             "linecolor": "white",
             "minorgridcolor": "white",
             "startlinecolor": "#2a3f5f"
            },
            "type": "carpet"
           }
          ],
          "choropleth": [
           {
            "colorbar": {
             "outlinewidth": 0,
             "ticks": ""
            },
            "type": "choropleth"
           }
          ],
          "contour": [
           {
            "colorbar": {
             "outlinewidth": 0,
             "ticks": ""
            },
            "colorscale": [
             [
              0,
              "#0d0887"
             ],
             [
              0.1111111111111111,
              "#46039f"
             ],
             [
              0.2222222222222222,
              "#7201a8"
             ],
             [
              0.3333333333333333,
              "#9c179e"
             ],
             [
              0.4444444444444444,
              "#bd3786"
             ],
             [
              0.5555555555555556,
              "#d8576b"
             ],
             [
              0.6666666666666666,
              "#ed7953"
             ],
             [
              0.7777777777777778,
              "#fb9f3a"
             ],
             [
              0.8888888888888888,
              "#fdca26"
             ],
             [
              1,
              "#f0f921"
             ]
            ],
            "type": "contour"
           }
          ],
          "contourcarpet": [
           {
            "colorbar": {
             "outlinewidth": 0,
             "ticks": ""
            },
            "type": "contourcarpet"
           }
          ],
          "heatmap": [
           {
            "colorbar": {
             "outlinewidth": 0,
             "ticks": ""
            },
            "colorscale": [
             [
              0,
              "#0d0887"
             ],
             [
              0.1111111111111111,
              "#46039f"
             ],
             [
              0.2222222222222222,
              "#7201a8"
             ],
             [
              0.3333333333333333,
              "#9c179e"
             ],
             [
              0.4444444444444444,
              "#bd3786"
             ],
             [
              0.5555555555555556,
              "#d8576b"
             ],
             [
              0.6666666666666666,
              "#ed7953"
             ],
             [
              0.7777777777777778,
              "#fb9f3a"
             ],
             [
              0.8888888888888888,
              "#fdca26"
             ],
             [
              1,
              "#f0f921"
             ]
            ],
            "type": "heatmap"
           }
          ],
          "heatmapgl": [
           {
            "colorbar": {
             "outlinewidth": 0,
             "ticks": ""
            },
            "colorscale": [
             [
              0,
              "#0d0887"
             ],
             [
              0.1111111111111111,
              "#46039f"
             ],
             [
              0.2222222222222222,
              "#7201a8"
             ],
             [
              0.3333333333333333,
              "#9c179e"
             ],
             [
              0.4444444444444444,
              "#bd3786"
             ],
             [
              0.5555555555555556,
              "#d8576b"
             ],
             [
              0.6666666666666666,
              "#ed7953"
             ],
             [
              0.7777777777777778,
              "#fb9f3a"
             ],
             [
              0.8888888888888888,
              "#fdca26"
             ],
             [
              1,
              "#f0f921"
             ]
            ],
            "type": "heatmapgl"
           }
          ],
          "histogram": [
           {
            "marker": {
             "pattern": {
              "fillmode": "overlay",
              "size": 10,
              "solidity": 0.2
             }
            },
            "type": "histogram"
           }
          ],
          "histogram2d": [
           {
            "colorbar": {
             "outlinewidth": 0,
             "ticks": ""
            },
            "colorscale": [
             [
              0,
              "#0d0887"
             ],
             [
              0.1111111111111111,
              "#46039f"
             ],
             [
              0.2222222222222222,
              "#7201a8"
             ],
             [
              0.3333333333333333,
              "#9c179e"
             ],
             [
              0.4444444444444444,
              "#bd3786"
             ],
             [
              0.5555555555555556,
              "#d8576b"
             ],
             [
              0.6666666666666666,
              "#ed7953"
             ],
             [
              0.7777777777777778,
              "#fb9f3a"
             ],
             [
              0.8888888888888888,
              "#fdca26"
             ],
             [
              1,
              "#f0f921"
             ]
            ],
            "type": "histogram2d"
           }
          ],
          "histogram2dcontour": [
           {
            "colorbar": {
             "outlinewidth": 0,
             "ticks": ""
            },
            "colorscale": [
             [
              0,
              "#0d0887"
             ],
             [
              0.1111111111111111,
              "#46039f"
             ],
             [
              0.2222222222222222,
              "#7201a8"
             ],
             [
              0.3333333333333333,
              "#9c179e"
             ],
             [
              0.4444444444444444,
              "#bd3786"
             ],
             [
              0.5555555555555556,
              "#d8576b"
             ],
             [
              0.6666666666666666,
              "#ed7953"
             ],
             [
              0.7777777777777778,
              "#fb9f3a"
             ],
             [
              0.8888888888888888,
              "#fdca26"
             ],
             [
              1,
              "#f0f921"
             ]
            ],
            "type": "histogram2dcontour"
           }
          ],
          "mesh3d": [
           {
            "colorbar": {
             "outlinewidth": 0,
             "ticks": ""
            },
            "type": "mesh3d"
           }
          ],
          "parcoords": [
           {
            "line": {
             "colorbar": {
              "outlinewidth": 0,
              "ticks": ""
             }
            },
            "type": "parcoords"
           }
          ],
          "pie": [
           {
            "automargin": true,
            "type": "pie"
           }
          ],
          "scatter": [
           {
            "fillpattern": {
             "fillmode": "overlay",
             "size": 10,
             "solidity": 0.2
            },
            "type": "scatter"
           }
          ],
          "scatter3d": [
           {
            "line": {
             "colorbar": {
              "outlinewidth": 0,
              "ticks": ""
             }
            },
            "marker": {
             "colorbar": {
              "outlinewidth": 0,
              "ticks": ""
             }
            },
            "type": "scatter3d"
           }
          ],
          "scattercarpet": [
           {
            "marker": {
             "colorbar": {
              "outlinewidth": 0,
              "ticks": ""
             }
            },
            "type": "scattercarpet"
           }
          ],
          "scattergeo": [
           {
            "marker": {
             "colorbar": {
              "outlinewidth": 0,
              "ticks": ""
             }
            },
            "type": "scattergeo"
           }
          ],
          "scattergl": [
           {
            "marker": {
             "colorbar": {
              "outlinewidth": 0,
              "ticks": ""
             }
            },
            "type": "scattergl"
           }
          ],
          "scattermapbox": [
           {
            "marker": {
             "colorbar": {
              "outlinewidth": 0,
              "ticks": ""
             }
            },
            "type": "scattermapbox"
           }
          ],
          "scatterpolar": [
           {
            "marker": {
             "colorbar": {
              "outlinewidth": 0,
              "ticks": ""
             }
            },
            "type": "scatterpolar"
           }
          ],
          "scatterpolargl": [
           {
            "marker": {
             "colorbar": {
              "outlinewidth": 0,
              "ticks": ""
             }
            },
            "type": "scatterpolargl"
           }
          ],
          "scatterternary": [
           {
            "marker": {
             "colorbar": {
              "outlinewidth": 0,
              "ticks": ""
             }
            },
            "type": "scatterternary"
           }
          ],
          "surface": [
           {
            "colorbar": {
             "outlinewidth": 0,
             "ticks": ""
            },
            "colorscale": [
             [
              0,
              "#0d0887"
             ],
             [
              0.1111111111111111,
              "#46039f"
             ],
             [
              0.2222222222222222,
              "#7201a8"
             ],
             [
              0.3333333333333333,
              "#9c179e"
             ],
             [
              0.4444444444444444,
              "#bd3786"
             ],
             [
              0.5555555555555556,
              "#d8576b"
             ],
             [
              0.6666666666666666,
              "#ed7953"
             ],
             [
              0.7777777777777778,
              "#fb9f3a"
             ],
             [
              0.8888888888888888,
              "#fdca26"
             ],
             [
              1,
              "#f0f921"
             ]
            ],
            "type": "surface"
           }
          ],
          "table": [
           {
            "cells": {
             "fill": {
              "color": "#EBF0F8"
             },
             "line": {
              "color": "white"
             }
            },
            "header": {
             "fill": {
              "color": "#C8D4E3"
             },
             "line": {
              "color": "white"
             }
            },
            "type": "table"
           }
          ]
         },
         "layout": {
          "annotationdefaults": {
           "arrowcolor": "#2a3f5f",
           "arrowhead": 0,
           "arrowwidth": 1
          },
          "autotypenumbers": "strict",
          "coloraxis": {
           "colorbar": {
            "outlinewidth": 0,
            "ticks": ""
           }
          },
          "colorscale": {
           "diverging": [
            [
             0,
             "#8e0152"
            ],
            [
             0.1,
             "#c51b7d"
            ],
            [
             0.2,
             "#de77ae"
            ],
            [
             0.3,
             "#f1b6da"
            ],
            [
             0.4,
             "#fde0ef"
            ],
            [
             0.5,
             "#f7f7f7"
            ],
            [
             0.6,
             "#e6f5d0"
            ],
            [
             0.7,
             "#b8e186"
            ],
            [
             0.8,
             "#7fbc41"
            ],
            [
             0.9,
             "#4d9221"
            ],
            [
             1,
             "#276419"
            ]
           ],
           "sequential": [
            [
             0,
             "#0d0887"
            ],
            [
             0.1111111111111111,
             "#46039f"
            ],
            [
             0.2222222222222222,
             "#7201a8"
            ],
            [
             0.3333333333333333,
             "#9c179e"
            ],
            [
             0.4444444444444444,
             "#bd3786"
            ],
            [
             0.5555555555555556,
             "#d8576b"
            ],
            [
             0.6666666666666666,
             "#ed7953"
            ],
            [
             0.7777777777777778,
             "#fb9f3a"
            ],
            [
             0.8888888888888888,
             "#fdca26"
            ],
            [
             1,
             "#f0f921"
            ]
           ],
           "sequentialminus": [
            [
             0,
             "#0d0887"
            ],
            [
             0.1111111111111111,
             "#46039f"
            ],
            [
             0.2222222222222222,
             "#7201a8"
            ],
            [
             0.3333333333333333,
             "#9c179e"
            ],
            [
             0.4444444444444444,
             "#bd3786"
            ],
            [
             0.5555555555555556,
             "#d8576b"
            ],
            [
             0.6666666666666666,
             "#ed7953"
            ],
            [
             0.7777777777777778,
             "#fb9f3a"
            ],
            [
             0.8888888888888888,
             "#fdca26"
            ],
            [
             1,
             "#f0f921"
            ]
           ]
          },
          "colorway": [
           "#636efa",
           "#EF553B",
           "#00cc96",
           "#ab63fa",
           "#FFA15A",
           "#19d3f3",
           "#FF6692",
           "#B6E880",
           "#FF97FF",
           "#FECB52"
          ],
          "font": {
           "color": "#2a3f5f"
          },
          "geo": {
           "bgcolor": "white",
           "lakecolor": "white",
           "landcolor": "#E5ECF6",
           "showlakes": true,
           "showland": true,
           "subunitcolor": "white"
          },
          "hoverlabel": {
           "align": "left"
          },
          "hovermode": "closest",
          "mapbox": {
           "style": "light"
          },
          "paper_bgcolor": "white",
          "plot_bgcolor": "#E5ECF6",
          "polar": {
           "angularaxis": {
            "gridcolor": "white",
            "linecolor": "white",
            "ticks": ""
           },
           "bgcolor": "#E5ECF6",
           "radialaxis": {
            "gridcolor": "white",
            "linecolor": "white",
            "ticks": ""
           }
          },
          "scene": {
           "xaxis": {
            "backgroundcolor": "#E5ECF6",
            "gridcolor": "white",
            "gridwidth": 2,
            "linecolor": "white",
            "showbackground": true,
            "ticks": "",
            "zerolinecolor": "white"
           },
           "yaxis": {
            "backgroundcolor": "#E5ECF6",
            "gridcolor": "white",
            "gridwidth": 2,
            "linecolor": "white",
            "showbackground": true,
            "ticks": "",
            "zerolinecolor": "white"
           },
           "zaxis": {
            "backgroundcolor": "#E5ECF6",
            "gridcolor": "white",
            "gridwidth": 2,
            "linecolor": "white",
            "showbackground": true,
            "ticks": "",
            "zerolinecolor": "white"
           }
          },
          "shapedefaults": {
           "line": {
            "color": "#2a3f5f"
           }
          },
          "ternary": {
           "aaxis": {
            "gridcolor": "white",
            "linecolor": "white",
            "ticks": ""
           },
           "baxis": {
            "gridcolor": "white",
            "linecolor": "white",
            "ticks": ""
           },
           "bgcolor": "#E5ECF6",
           "caxis": {
            "gridcolor": "white",
            "linecolor": "white",
            "ticks": ""
           }
          },
          "title": {
           "x": 0.05
          },
          "xaxis": {
           "automargin": true,
           "gridcolor": "white",
           "linecolor": "white",
           "ticks": "",
           "title": {
            "standoff": 15
           },
           "zerolinecolor": "white",
           "zerolinewidth": 2
          },
          "yaxis": {
           "automargin": true,
           "gridcolor": "white",
           "linecolor": "white",
           "ticks": "",
           "title": {
            "standoff": 15
           },
           "zerolinecolor": "white",
           "zerolinewidth": 2
          }
         }
        },
        "width": 800,
        "xaxis": {
         "rangeslider": {
          "visible": false
         }
        }
       }
      }
     },
     "metadata": {},
     "output_type": "display_data"
    }
   ],
   "source": [
    "#plot candles using plotly\n",
    "fig = go.Figure(data=[go.Candlestick(x=nq.index,\n",
    "                open=nq['open'],\n",
    "                high=nq['high'],\n",
    "                low=nq['low'],\n",
    "                close=nq['close'])])\n",
    "fig.update_layout(xaxis_rangeslider_visible=False)\n",
    "#set figure size\n",
    "fig.update_layout(\n",
    "    autosize=False,\n",
    "    width=800,\n",
    "    height=700,)\n",
    "fig.show()"
   ]
  },
  {
   "cell_type": "code",
   "execution_count": 38,
   "metadata": {},
   "outputs": [
    {
     "data": {
      "text/html": [
       "<div>\n",
       "<style scoped>\n",
       "    .dataframe tbody tr th:only-of-type {\n",
       "        vertical-align: middle;\n",
       "    }\n",
       "\n",
       "    .dataframe tbody tr th {\n",
       "        vertical-align: top;\n",
       "    }\n",
       "\n",
       "    .dataframe thead th {\n",
       "        text-align: right;\n",
       "    }\n",
       "</style>\n",
       "<table border=\"1\" class=\"dataframe\">\n",
       "  <thead>\n",
       "    <tr style=\"text-align: right;\">\n",
       "      <th></th>\n",
       "      <th>open</th>\n",
       "      <th>high</th>\n",
       "      <th>low</th>\n",
       "      <th>close</th>\n",
       "      <th>body_size</th>\n",
       "      <th>top_wick</th>\n",
       "      <th>bottom_wick</th>\n",
       "      <th>direction</th>\n",
       "      <th>gap_size</th>\n",
       "      <th>gap_direction</th>\n",
       "      <th>hour_start</th>\n",
       "      <th>15min_start</th>\n",
       "      <th>5min_start</th>\n",
       "      <th>move</th>\n",
       "    </tr>\n",
       "  </thead>\n",
       "  <tbody>\n",
       "    <tr>\n",
       "      <th>2024-01-24 00:56:00-05:00</th>\n",
       "      <td>17605.50</td>\n",
       "      <td>17605.75</td>\n",
       "      <td>17604.25</td>\n",
       "      <td>17605.00</td>\n",
       "      <td>2.0</td>\n",
       "      <td>1.0</td>\n",
       "      <td>3.0</td>\n",
       "      <td>-1.0</td>\n",
       "      <td>0.0</td>\n",
       "      <td>0.0</td>\n",
       "      <td>0.0</td>\n",
       "      <td>0.0</td>\n",
       "      <td>0.0</td>\n",
       "      <td>MUUUDDDDDDUE</td>\n",
       "    </tr>\n",
       "    <tr>\n",
       "      <th>2024-01-24 00:57:00-05:00</th>\n",
       "      <td>17604.75</td>\n",
       "      <td>17605.00</td>\n",
       "      <td>17603.50</td>\n",
       "      <td>17603.50</td>\n",
       "      <td>5.0</td>\n",
       "      <td>1.0</td>\n",
       "      <td>0.0</td>\n",
       "      <td>-1.0</td>\n",
       "      <td>1.0</td>\n",
       "      <td>-1.0</td>\n",
       "      <td>0.0</td>\n",
       "      <td>0.0</td>\n",
       "      <td>0.0</td>\n",
       "      <td>MgDDDDDDUE</td>\n",
       "    </tr>\n",
       "    <tr>\n",
       "      <th>2024-01-24 00:58:00-05:00</th>\n",
       "      <td>17603.25</td>\n",
       "      <td>17605.75</td>\n",
       "      <td>17603.00</td>\n",
       "      <td>17605.25</td>\n",
       "      <td>8.0</td>\n",
       "      <td>2.0</td>\n",
       "      <td>1.0</td>\n",
       "      <td>1.0</td>\n",
       "      <td>1.0</td>\n",
       "      <td>-1.0</td>\n",
       "      <td>0.0</td>\n",
       "      <td>0.0</td>\n",
       "      <td>0.0</td>\n",
       "      <td>MgDUUUUUUUUUUUDDE</td>\n",
       "    </tr>\n",
       "    <tr>\n",
       "      <th>2024-01-24 00:59:00-05:00</th>\n",
       "      <td>17605.00</td>\n",
       "      <td>17605.75</td>\n",
       "      <td>17603.00</td>\n",
       "      <td>17603.25</td>\n",
       "      <td>7.0</td>\n",
       "      <td>3.0</td>\n",
       "      <td>1.0</td>\n",
       "      <td>-1.0</td>\n",
       "      <td>1.0</td>\n",
       "      <td>-1.0</td>\n",
       "      <td>0.0</td>\n",
       "      <td>0.0</td>\n",
       "      <td>0.0</td>\n",
       "      <td>MgUDDDDDDDDDDDUUUE</td>\n",
       "    </tr>\n",
       "    <tr>\n",
       "      <th>2024-01-24 01:00:00-05:00</th>\n",
       "      <td>17603.50</td>\n",
       "      <td>17610.25</td>\n",
       "      <td>17603.50</td>\n",
       "      <td>17608.75</td>\n",
       "      <td>21.0</td>\n",
       "      <td>6.0</td>\n",
       "      <td>0.0</td>\n",
       "      <td>1.0</td>\n",
       "      <td>1.0</td>\n",
       "      <td>1.0</td>\n",
       "      <td>1.0</td>\n",
       "      <td>0.0</td>\n",
       "      <td>0.0</td>\n",
       "      <td>HGUUUUUUUUUUUUUUUUUUUUUUUUUUUDDDDDDE</td>\n",
       "    </tr>\n",
       "    <tr>\n",
       "      <th>2024-01-24 01:01:00-05:00</th>\n",
       "      <td>17609.25</td>\n",
       "      <td>17612.50</td>\n",
       "      <td>17607.25</td>\n",
       "      <td>17607.50</td>\n",
       "      <td>7.0</td>\n",
       "      <td>13.0</td>\n",
       "      <td>1.0</td>\n",
       "      <td>-1.0</td>\n",
       "      <td>2.0</td>\n",
       "      <td>1.0</td>\n",
       "      <td>0.0</td>\n",
       "      <td>0.0</td>\n",
       "      <td>0.0</td>\n",
       "      <td>MGGUDDDDDDDDDDDDDDDDDDDDDUUUUUUUUUUUUUE</td>\n",
       "    </tr>\n",
       "    <tr>\n",
       "      <th>2024-01-24 01:02:00-05:00</th>\n",
       "      <td>17607.75</td>\n",
       "      <td>17607.75</td>\n",
       "      <td>17600.75</td>\n",
       "      <td>17601.50</td>\n",
       "      <td>25.0</td>\n",
       "      <td>0.0</td>\n",
       "      <td>3.0</td>\n",
       "      <td>-1.0</td>\n",
       "      <td>1.0</td>\n",
       "      <td>1.0</td>\n",
       "      <td>0.0</td>\n",
       "      <td>0.0</td>\n",
       "      <td>0.0</td>\n",
       "      <td>MGUUUDDDDDDDDDDDDDDDDDDDDDDDDDDDDE</td>\n",
       "    </tr>\n",
       "    <tr>\n",
       "      <th>2024-01-24 01:03:00-05:00</th>\n",
       "      <td>17602.50</td>\n",
       "      <td>17606.25</td>\n",
       "      <td>17602.25</td>\n",
       "      <td>17605.25</td>\n",
       "      <td>11.0</td>\n",
       "      <td>4.0</td>\n",
       "      <td>1.0</td>\n",
       "      <td>1.0</td>\n",
       "      <td>4.0</td>\n",
       "      <td>1.0</td>\n",
       "      <td>0.0</td>\n",
       "      <td>0.0</td>\n",
       "      <td>0.0</td>\n",
       "      <td>MGGGGDUUUUUUUUUUUUUUUUDDDDE</td>\n",
       "    </tr>\n",
       "    <tr>\n",
       "      <th>2024-01-24 01:04:00-05:00</th>\n",
       "      <td>17605.75</td>\n",
       "      <td>17607.75</td>\n",
       "      <td>17604.75</td>\n",
       "      <td>17606.00</td>\n",
       "      <td>1.0</td>\n",
       "      <td>7.0</td>\n",
       "      <td>4.0</td>\n",
       "      <td>1.0</td>\n",
       "      <td>2.0</td>\n",
       "      <td>1.0</td>\n",
       "      <td>0.0</td>\n",
       "      <td>0.0</td>\n",
       "      <td>0.0</td>\n",
       "      <td>MGGDDDDUUUUUUUUUUUUDDDDDDDE</td>\n",
       "    </tr>\n",
       "    <tr>\n",
       "      <th>2024-01-24 01:05:00-05:00</th>\n",
       "      <td>17606.50</td>\n",
       "      <td>17612.25</td>\n",
       "      <td>17606.50</td>\n",
       "      <td>17612.25</td>\n",
       "      <td>23.0</td>\n",
       "      <td>0.0</td>\n",
       "      <td>0.0</td>\n",
       "      <td>1.0</td>\n",
       "      <td>2.0</td>\n",
       "      <td>1.0</td>\n",
       "      <td>0.0</td>\n",
       "      <td>0.0</td>\n",
       "      <td>1.0</td>\n",
       "      <td>FGGUUUUUUUUUUUUUUUUUUUUUUUE</td>\n",
       "    </tr>\n",
       "    <tr>\n",
       "      <th>2024-01-24 01:06:00-05:00</th>\n",
       "      <td>17612.50</td>\n",
       "      <td>17613.75</td>\n",
       "      <td>17611.00</td>\n",
       "      <td>17612.75</td>\n",
       "      <td>1.0</td>\n",
       "      <td>4.0</td>\n",
       "      <td>6.0</td>\n",
       "      <td>1.0</td>\n",
       "      <td>1.0</td>\n",
       "      <td>1.0</td>\n",
       "      <td>0.0</td>\n",
       "      <td>0.0</td>\n",
       "      <td>0.0</td>\n",
       "      <td>MGDDDDDDUUUUUUUUUUUDDDDE</td>\n",
       "    </tr>\n",
       "    <tr>\n",
       "      <th>2024-01-24 01:07:00-05:00</th>\n",
       "      <td>17613.00</td>\n",
       "      <td>17613.00</td>\n",
       "      <td>17610.00</td>\n",
       "      <td>17610.50</td>\n",
       "      <td>10.0</td>\n",
       "      <td>0.0</td>\n",
       "      <td>2.0</td>\n",
       "      <td>-1.0</td>\n",
       "      <td>1.0</td>\n",
       "      <td>1.0</td>\n",
       "      <td>0.0</td>\n",
       "      <td>0.0</td>\n",
       "      <td>0.0</td>\n",
       "      <td>MGUUDDDDDDDDDDDDE</td>\n",
       "    </tr>\n",
       "    <tr>\n",
       "      <th>2024-01-24 01:08:00-05:00</th>\n",
       "      <td>17610.75</td>\n",
       "      <td>17612.50</td>\n",
       "      <td>17610.25</td>\n",
       "      <td>17611.75</td>\n",
       "      <td>4.0</td>\n",
       "      <td>3.0</td>\n",
       "      <td>2.0</td>\n",
       "      <td>1.0</td>\n",
       "      <td>1.0</td>\n",
       "      <td>1.0</td>\n",
       "      <td>0.0</td>\n",
       "      <td>0.0</td>\n",
       "      <td>0.0</td>\n",
       "      <td>MGDDUUUUUUUUUDDDE</td>\n",
       "    </tr>\n",
       "    <tr>\n",
       "      <th>2024-01-24 01:09:00-05:00</th>\n",
       "      <td>17611.25</td>\n",
       "      <td>17611.50</td>\n",
       "      <td>17610.50</td>\n",
       "      <td>17611.00</td>\n",
       "      <td>1.0</td>\n",
       "      <td>1.0</td>\n",
       "      <td>2.0</td>\n",
       "      <td>-1.0</td>\n",
       "      <td>2.0</td>\n",
       "      <td>-1.0</td>\n",
       "      <td>0.0</td>\n",
       "      <td>0.0</td>\n",
       "      <td>0.0</td>\n",
       "      <td>MggUUDDDDUE</td>\n",
       "    </tr>\n",
       "    <tr>\n",
       "      <th>2024-01-24 01:10:00-05:00</th>\n",
       "      <td>17611.00</td>\n",
       "      <td>17613.00</td>\n",
       "      <td>17610.50</td>\n",
       "      <td>17611.75</td>\n",
       "      <td>3.0</td>\n",
       "      <td>5.0</td>\n",
       "      <td>2.0</td>\n",
       "      <td>1.0</td>\n",
       "      <td>0.0</td>\n",
       "      <td>0.0</td>\n",
       "      <td>0.0</td>\n",
       "      <td>0.0</td>\n",
       "      <td>1.0</td>\n",
       "      <td>FDDUUUUUUUUUUDDDDDE</td>\n",
       "    </tr>\n",
       "    <tr>\n",
       "      <th>2024-01-24 01:11:00-05:00</th>\n",
       "      <td>17612.00</td>\n",
       "      <td>17614.75</td>\n",
       "      <td>17612.00</td>\n",
       "      <td>17614.50</td>\n",
       "      <td>10.0</td>\n",
       "      <td>1.0</td>\n",
       "      <td>0.0</td>\n",
       "      <td>1.0</td>\n",
       "      <td>1.0</td>\n",
       "      <td>1.0</td>\n",
       "      <td>0.0</td>\n",
       "      <td>0.0</td>\n",
       "      <td>0.0</td>\n",
       "      <td>MGUUUUUUUUUUUDE</td>\n",
       "    </tr>\n",
       "    <tr>\n",
       "      <th>2024-01-24 01:12:00-05:00</th>\n",
       "      <td>17614.75</td>\n",
       "      <td>17617.00</td>\n",
       "      <td>17614.50</td>\n",
       "      <td>17616.50</td>\n",
       "      <td>7.0</td>\n",
       "      <td>2.0</td>\n",
       "      <td>1.0</td>\n",
       "      <td>1.0</td>\n",
       "      <td>1.0</td>\n",
       "      <td>1.0</td>\n",
       "      <td>0.0</td>\n",
       "      <td>0.0</td>\n",
       "      <td>0.0</td>\n",
       "      <td>MGDUUUUUUUUUUDDE</td>\n",
       "    </tr>\n",
       "    <tr>\n",
       "      <th>2024-01-24 01:13:00-05:00</th>\n",
       "      <td>17616.25</td>\n",
       "      <td>17617.00</td>\n",
       "      <td>17615.00</td>\n",
       "      <td>17616.50</td>\n",
       "      <td>1.0</td>\n",
       "      <td>2.0</td>\n",
       "      <td>5.0</td>\n",
       "      <td>1.0</td>\n",
       "      <td>1.0</td>\n",
       "      <td>-1.0</td>\n",
       "      <td>0.0</td>\n",
       "      <td>0.0</td>\n",
       "      <td>0.0</td>\n",
       "      <td>MgDDDDDUUUUUUUUDDE</td>\n",
       "    </tr>\n",
       "    <tr>\n",
       "      <th>2024-01-24 01:14:00-05:00</th>\n",
       "      <td>17616.50</td>\n",
       "      <td>17617.50</td>\n",
       "      <td>17615.00</td>\n",
       "      <td>17616.25</td>\n",
       "      <td>1.0</td>\n",
       "      <td>4.0</td>\n",
       "      <td>5.0</td>\n",
       "      <td>-1.0</td>\n",
       "      <td>0.0</td>\n",
       "      <td>0.0</td>\n",
       "      <td>0.0</td>\n",
       "      <td>0.0</td>\n",
       "      <td>0.0</td>\n",
       "      <td>MUUUUUDDDDDDDDDDUUUUE</td>\n",
       "    </tr>\n",
       "    <tr>\n",
       "      <th>2024-01-24 01:15:00-05:00</th>\n",
       "      <td>17616.25</td>\n",
       "      <td>17617.25</td>\n",
       "      <td>17615.50</td>\n",
       "      <td>17616.00</td>\n",
       "      <td>1.0</td>\n",
       "      <td>4.0</td>\n",
       "      <td>2.0</td>\n",
       "      <td>-1.0</td>\n",
       "      <td>0.0</td>\n",
       "      <td>0.0</td>\n",
       "      <td>0.0</td>\n",
       "      <td>1.0</td>\n",
       "      <td>1.0</td>\n",
       "      <td>QUUDDDDDDDUUUUE</td>\n",
       "    </tr>\n",
       "    <tr>\n",
       "      <th>2024-01-24 01:16:00-05:00</th>\n",
       "      <td>17616.00</td>\n",
       "      <td>17616.25</td>\n",
       "      <td>17614.00</td>\n",
       "      <td>17616.25</td>\n",
       "      <td>1.0</td>\n",
       "      <td>0.0</td>\n",
       "      <td>8.0</td>\n",
       "      <td>1.0</td>\n",
       "      <td>0.0</td>\n",
       "      <td>0.0</td>\n",
       "      <td>0.0</td>\n",
       "      <td>0.0</td>\n",
       "      <td>0.0</td>\n",
       "      <td>MDDDDDDDDUUUUUUUUUE</td>\n",
       "    </tr>\n",
       "    <tr>\n",
       "      <th>2024-01-24 01:17:00-05:00</th>\n",
       "      <td>17616.75</td>\n",
       "      <td>17617.25</td>\n",
       "      <td>17615.75</td>\n",
       "      <td>17615.75</td>\n",
       "      <td>4.0</td>\n",
       "      <td>2.0</td>\n",
       "      <td>0.0</td>\n",
       "      <td>-1.0</td>\n",
       "      <td>2.0</td>\n",
       "      <td>1.0</td>\n",
       "      <td>0.0</td>\n",
       "      <td>0.0</td>\n",
       "      <td>0.0</td>\n",
       "      <td>MGGDDDDDDUUE</td>\n",
       "    </tr>\n",
       "    <tr>\n",
       "      <th>2024-01-24 01:18:00-05:00</th>\n",
       "      <td>17615.25</td>\n",
       "      <td>17616.00</td>\n",
       "      <td>17614.50</td>\n",
       "      <td>17615.25</td>\n",
       "      <td>0.0</td>\n",
       "      <td>3.0</td>\n",
       "      <td>3.0</td>\n",
       "      <td>0.0</td>\n",
       "      <td>2.0</td>\n",
       "      <td>-1.0</td>\n",
       "      <td>0.0</td>\n",
       "      <td>0.0</td>\n",
       "      <td>0.0</td>\n",
       "      <td>MggDDDUUUUUUDDDE</td>\n",
       "    </tr>\n",
       "    <tr>\n",
       "      <th>2024-01-24 01:19:00-05:00</th>\n",
       "      <td>17615.50</td>\n",
       "      <td>17617.75</td>\n",
       "      <td>17615.00</td>\n",
       "      <td>17616.75</td>\n",
       "      <td>5.0</td>\n",
       "      <td>4.0</td>\n",
       "      <td>2.0</td>\n",
       "      <td>1.0</td>\n",
       "      <td>1.0</td>\n",
       "      <td>1.0</td>\n",
       "      <td>0.0</td>\n",
       "      <td>0.0</td>\n",
       "      <td>0.0</td>\n",
       "      <td>MGDDUUUUUUUUUUUDDDDE</td>\n",
       "    </tr>\n",
       "    <tr>\n",
       "      <th>2024-01-24 01:20:00-05:00</th>\n",
       "      <td>17616.25</td>\n",
       "      <td>17616.50</td>\n",
       "      <td>17614.75</td>\n",
       "      <td>17615.00</td>\n",
       "      <td>5.0</td>\n",
       "      <td>1.0</td>\n",
       "      <td>1.0</td>\n",
       "      <td>-1.0</td>\n",
       "      <td>2.0</td>\n",
       "      <td>-1.0</td>\n",
       "      <td>0.0</td>\n",
       "      <td>0.0</td>\n",
       "      <td>1.0</td>\n",
       "      <td>FggUDDDDDDDUE</td>\n",
       "    </tr>\n",
       "    <tr>\n",
       "      <th>2024-01-24 01:21:00-05:00</th>\n",
       "      <td>17614.75</td>\n",
       "      <td>17615.75</td>\n",
       "      <td>17614.25</td>\n",
       "      <td>17614.50</td>\n",
       "      <td>1.0</td>\n",
       "      <td>4.0</td>\n",
       "      <td>1.0</td>\n",
       "      <td>-1.0</td>\n",
       "      <td>1.0</td>\n",
       "      <td>-1.0</td>\n",
       "      <td>0.0</td>\n",
       "      <td>0.0</td>\n",
       "      <td>0.0</td>\n",
       "      <td>MgUDDDDDDUUUUE</td>\n",
       "    </tr>\n",
       "    <tr>\n",
       "      <th>2024-01-24 01:22:00-05:00</th>\n",
       "      <td>17614.50</td>\n",
       "      <td>17616.50</td>\n",
       "      <td>17614.50</td>\n",
       "      <td>17616.00</td>\n",
       "      <td>6.0</td>\n",
       "      <td>2.0</td>\n",
       "      <td>0.0</td>\n",
       "      <td>1.0</td>\n",
       "      <td>0.0</td>\n",
       "      <td>0.0</td>\n",
       "      <td>0.0</td>\n",
       "      <td>0.0</td>\n",
       "      <td>0.0</td>\n",
       "      <td>MUUUUUUUUDDE</td>\n",
       "    </tr>\n",
       "    <tr>\n",
       "      <th>2024-01-24 01:23:00-05:00</th>\n",
       "      <td>17615.75</td>\n",
       "      <td>17621.75</td>\n",
       "      <td>17615.75</td>\n",
       "      <td>17617.50</td>\n",
       "      <td>7.0</td>\n",
       "      <td>17.0</td>\n",
       "      <td>0.0</td>\n",
       "      <td>1.0</td>\n",
       "      <td>1.0</td>\n",
       "      <td>-1.0</td>\n",
       "      <td>0.0</td>\n",
       "      <td>0.0</td>\n",
       "      <td>0.0</td>\n",
       "      <td>MgUUUUUUUUUUUUUUUUUUUUUUUUDDDDDDDDDDDDDDDDDE</td>\n",
       "    </tr>\n",
       "    <tr>\n",
       "      <th>2024-01-24 01:24:00-05:00</th>\n",
       "      <td>17617.50</td>\n",
       "      <td>17620.50</td>\n",
       "      <td>17617.50</td>\n",
       "      <td>17619.75</td>\n",
       "      <td>9.0</td>\n",
       "      <td>3.0</td>\n",
       "      <td>0.0</td>\n",
       "      <td>1.0</td>\n",
       "      <td>0.0</td>\n",
       "      <td>0.0</td>\n",
       "      <td>0.0</td>\n",
       "      <td>0.0</td>\n",
       "      <td>0.0</td>\n",
       "      <td>MUUUUUUUUUUUUDDDE</td>\n",
       "    </tr>\n",
       "    <tr>\n",
       "      <th>2024-01-24 01:25:00-05:00</th>\n",
       "      <td>17620.00</td>\n",
       "      <td>17621.00</td>\n",
       "      <td>17618.00</td>\n",
       "      <td>17619.25</td>\n",
       "      <td>3.0</td>\n",
       "      <td>4.0</td>\n",
       "      <td>5.0</td>\n",
       "      <td>-1.0</td>\n",
       "      <td>1.0</td>\n",
       "      <td>1.0</td>\n",
       "      <td>0.0</td>\n",
       "      <td>0.0</td>\n",
       "      <td>1.0</td>\n",
       "      <td>FGUUUUUDDDDDDDDDDDDUUUUE</td>\n",
       "    </tr>\n",
       "    <tr>\n",
       "      <th>2024-01-24 01:26:00-05:00</th>\n",
       "      <td>17619.50</td>\n",
       "      <td>17619.75</td>\n",
       "      <td>17619.00</td>\n",
       "      <td>17619.00</td>\n",
       "      <td>2.0</td>\n",
       "      <td>1.0</td>\n",
       "      <td>0.0</td>\n",
       "      <td>-1.0</td>\n",
       "      <td>1.0</td>\n",
       "      <td>1.0</td>\n",
       "      <td>0.0</td>\n",
       "      <td>0.0</td>\n",
       "      <td>0.0</td>\n",
       "      <td>MGDDDUE</td>\n",
       "    </tr>\n",
       "    <tr>\n",
       "      <th>2024-01-24 01:27:00-05:00</th>\n",
       "      <td>17619.50</td>\n",
       "      <td>17619.75</td>\n",
       "      <td>17617.50</td>\n",
       "      <td>17617.50</td>\n",
       "      <td>8.0</td>\n",
       "      <td>1.0</td>\n",
       "      <td>0.0</td>\n",
       "      <td>-1.0</td>\n",
       "      <td>2.0</td>\n",
       "      <td>1.0</td>\n",
       "      <td>0.0</td>\n",
       "      <td>0.0</td>\n",
       "      <td>0.0</td>\n",
       "      <td>MGGDDDDDDDDDUE</td>\n",
       "    </tr>\n",
       "    <tr>\n",
       "      <th>2024-01-24 01:28:00-05:00</th>\n",
       "      <td>17617.75</td>\n",
       "      <td>17619.25</td>\n",
       "      <td>17617.25</td>\n",
       "      <td>17618.00</td>\n",
       "      <td>1.0</td>\n",
       "      <td>5.0</td>\n",
       "      <td>2.0</td>\n",
       "      <td>1.0</td>\n",
       "      <td>1.0</td>\n",
       "      <td>1.0</td>\n",
       "      <td>0.0</td>\n",
       "      <td>0.0</td>\n",
       "      <td>0.0</td>\n",
       "      <td>MGDDUUUUUUUUDDDDDE</td>\n",
       "    </tr>\n",
       "    <tr>\n",
       "      <th>2024-01-24 01:29:00-05:00</th>\n",
       "      <td>17618.00</td>\n",
       "      <td>17618.50</td>\n",
       "      <td>17615.75</td>\n",
       "      <td>17615.75</td>\n",
       "      <td>9.0</td>\n",
       "      <td>2.0</td>\n",
       "      <td>0.0</td>\n",
       "      <td>-1.0</td>\n",
       "      <td>0.0</td>\n",
       "      <td>0.0</td>\n",
       "      <td>0.0</td>\n",
       "      <td>0.0</td>\n",
       "      <td>0.0</td>\n",
       "      <td>MDDDDDDDDDDDUUE</td>\n",
       "    </tr>\n",
       "    <tr>\n",
       "      <th>2024-01-24 01:30:00-05:00</th>\n",
       "      <td>17616.50</td>\n",
       "      <td>17617.75</td>\n",
       "      <td>17615.75</td>\n",
       "      <td>17616.50</td>\n",
       "      <td>0.0</td>\n",
       "      <td>5.0</td>\n",
       "      <td>3.0</td>\n",
       "      <td>0.0</td>\n",
       "      <td>3.0</td>\n",
       "      <td>1.0</td>\n",
       "      <td>0.0</td>\n",
       "      <td>1.0</td>\n",
       "      <td>1.0</td>\n",
       "      <td>QGGGDDDUUUUUUUUDDDDDE</td>\n",
       "    </tr>\n",
       "    <tr>\n",
       "      <th>2024-01-24 01:31:00-05:00</th>\n",
       "      <td>17616.50</td>\n",
       "      <td>17618.25</td>\n",
       "      <td>17615.75</td>\n",
       "      <td>17618.00</td>\n",
       "      <td>6.0</td>\n",
       "      <td>1.0</td>\n",
       "      <td>3.0</td>\n",
       "      <td>1.0</td>\n",
       "      <td>0.0</td>\n",
       "      <td>0.0</td>\n",
       "      <td>0.0</td>\n",
       "      <td>0.0</td>\n",
       "      <td>0.0</td>\n",
       "      <td>MDDDUUUUUUUUUUDE</td>\n",
       "    </tr>\n",
       "    <tr>\n",
       "      <th>2024-01-24 01:32:00-05:00</th>\n",
       "      <td>17617.50</td>\n",
       "      <td>17618.00</td>\n",
       "      <td>17612.00</td>\n",
       "      <td>17613.75</td>\n",
       "      <td>15.0</td>\n",
       "      <td>2.0</td>\n",
       "      <td>7.0</td>\n",
       "      <td>-1.0</td>\n",
       "      <td>2.0</td>\n",
       "      <td>-1.0</td>\n",
       "      <td>0.0</td>\n",
       "      <td>0.0</td>\n",
       "      <td>0.0</td>\n",
       "      <td>MggUUUUUUUDDDDDDDDDDDDDDDDDDDDDDDDUUE</td>\n",
       "    </tr>\n",
       "    <tr>\n",
       "      <th>2024-01-24 01:33:00-05:00</th>\n",
       "      <td>17613.75</td>\n",
       "      <td>17616.00</td>\n",
       "      <td>17613.50</td>\n",
       "      <td>17613.50</td>\n",
       "      <td>1.0</td>\n",
       "      <td>9.0</td>\n",
       "      <td>0.0</td>\n",
       "      <td>-1.0</td>\n",
       "      <td>0.0</td>\n",
       "      <td>0.0</td>\n",
       "      <td>0.0</td>\n",
       "      <td>0.0</td>\n",
       "      <td>0.0</td>\n",
       "      <td>MDDDDDDDDDDUUUUUUUUUE</td>\n",
       "    </tr>\n",
       "    <tr>\n",
       "      <th>2024-01-24 01:34:00-05:00</th>\n",
       "      <td>17613.75</td>\n",
       "      <td>17614.25</td>\n",
       "      <td>17612.50</td>\n",
       "      <td>17614.00</td>\n",
       "      <td>1.0</td>\n",
       "      <td>1.0</td>\n",
       "      <td>5.0</td>\n",
       "      <td>1.0</td>\n",
       "      <td>1.0</td>\n",
       "      <td>1.0</td>\n",
       "      <td>0.0</td>\n",
       "      <td>0.0</td>\n",
       "      <td>0.0</td>\n",
       "      <td>MGDDDDDUUUUUUUDE</td>\n",
       "    </tr>\n",
       "    <tr>\n",
       "      <th>2024-01-24 01:35:00-05:00</th>\n",
       "      <td>17613.25</td>\n",
       "      <td>17615.50</td>\n",
       "      <td>17613.00</td>\n",
       "      <td>17614.00</td>\n",
       "      <td>3.0</td>\n",
       "      <td>6.0</td>\n",
       "      <td>1.0</td>\n",
       "      <td>1.0</td>\n",
       "      <td>3.0</td>\n",
       "      <td>-1.0</td>\n",
       "      <td>0.0</td>\n",
       "      <td>0.0</td>\n",
       "      <td>1.0</td>\n",
       "      <td>FgggDUUUUUUUUUUDDDDDDE</td>\n",
       "    </tr>\n",
       "    <tr>\n",
       "      <th>2024-01-24 01:36:00-05:00</th>\n",
       "      <td>17614.50</td>\n",
       "      <td>17616.50</td>\n",
       "      <td>17614.00</td>\n",
       "      <td>17615.25</td>\n",
       "      <td>3.0</td>\n",
       "      <td>5.0</td>\n",
       "      <td>2.0</td>\n",
       "      <td>1.0</td>\n",
       "      <td>2.0</td>\n",
       "      <td>1.0</td>\n",
       "      <td>0.0</td>\n",
       "      <td>0.0</td>\n",
       "      <td>0.0</td>\n",
       "      <td>MGGDDUUUUUUUUUUDDDDDE</td>\n",
       "    </tr>\n",
       "    <tr>\n",
       "      <th>2024-01-24 01:37:00-05:00</th>\n",
       "      <td>17614.50</td>\n",
       "      <td>17615.25</td>\n",
       "      <td>17613.50</td>\n",
       "      <td>17615.25</td>\n",
       "      <td>3.0</td>\n",
       "      <td>0.0</td>\n",
       "      <td>4.0</td>\n",
       "      <td>1.0</td>\n",
       "      <td>3.0</td>\n",
       "      <td>-1.0</td>\n",
       "      <td>0.0</td>\n",
       "      <td>0.0</td>\n",
       "      <td>0.0</td>\n",
       "      <td>MgggDDDDUUUUUUUE</td>\n",
       "    </tr>\n",
       "    <tr>\n",
       "      <th>2024-01-24 01:38:00-05:00</th>\n",
       "      <td>17616.00</td>\n",
       "      <td>17617.25</td>\n",
       "      <td>17616.00</td>\n",
       "      <td>17616.75</td>\n",
       "      <td>3.0</td>\n",
       "      <td>2.0</td>\n",
       "      <td>0.0</td>\n",
       "      <td>1.0</td>\n",
       "      <td>3.0</td>\n",
       "      <td>1.0</td>\n",
       "      <td>0.0</td>\n",
       "      <td>0.0</td>\n",
       "      <td>0.0</td>\n",
       "      <td>MGGGUUUUUDDE</td>\n",
       "    </tr>\n",
       "    <tr>\n",
       "      <th>2024-01-24 01:39:00-05:00</th>\n",
       "      <td>17616.25</td>\n",
       "      <td>17617.75</td>\n",
       "      <td>17615.25</td>\n",
       "      <td>17617.50</td>\n",
       "      <td>5.0</td>\n",
       "      <td>1.0</td>\n",
       "      <td>4.0</td>\n",
       "      <td>1.0</td>\n",
       "      <td>2.0</td>\n",
       "      <td>-1.0</td>\n",
       "      <td>0.0</td>\n",
       "      <td>0.0</td>\n",
       "      <td>0.0</td>\n",
       "      <td>MggDDDDUUUUUUUUUUDE</td>\n",
       "    </tr>\n",
       "    <tr>\n",
       "      <th>2024-01-24 01:40:00-05:00</th>\n",
       "      <td>17617.50</td>\n",
       "      <td>17618.50</td>\n",
       "      <td>17616.75</td>\n",
       "      <td>17617.00</td>\n",
       "      <td>2.0</td>\n",
       "      <td>4.0</td>\n",
       "      <td>1.0</td>\n",
       "      <td>-1.0</td>\n",
       "      <td>0.0</td>\n",
       "      <td>0.0</td>\n",
       "      <td>0.0</td>\n",
       "      <td>0.0</td>\n",
       "      <td>1.0</td>\n",
       "      <td>FUDDDDDDDUUUUE</td>\n",
       "    </tr>\n",
       "    <tr>\n",
       "      <th>2024-01-24 01:41:00-05:00</th>\n",
       "      <td>17616.75</td>\n",
       "      <td>17616.75</td>\n",
       "      <td>17614.25</td>\n",
       "      <td>17615.25</td>\n",
       "      <td>6.0</td>\n",
       "      <td>0.0</td>\n",
       "      <td>4.0</td>\n",
       "      <td>-1.0</td>\n",
       "      <td>1.0</td>\n",
       "      <td>-1.0</td>\n",
       "      <td>0.0</td>\n",
       "      <td>0.0</td>\n",
       "      <td>0.0</td>\n",
       "      <td>MgUUUUDDDDDDDDDDE</td>\n",
       "    </tr>\n",
       "    <tr>\n",
       "      <th>2024-01-24 01:42:00-05:00</th>\n",
       "      <td>17614.75</td>\n",
       "      <td>17616.50</td>\n",
       "      <td>17614.75</td>\n",
       "      <td>17616.25</td>\n",
       "      <td>6.0</td>\n",
       "      <td>1.0</td>\n",
       "      <td>0.0</td>\n",
       "      <td>1.0</td>\n",
       "      <td>2.0</td>\n",
       "      <td>-1.0</td>\n",
       "      <td>0.0</td>\n",
       "      <td>0.0</td>\n",
       "      <td>0.0</td>\n",
       "      <td>MggUUUUUUUDE</td>\n",
       "    </tr>\n",
       "    <tr>\n",
       "      <th>2024-01-24 01:43:00-05:00</th>\n",
       "      <td>17616.00</td>\n",
       "      <td>17616.75</td>\n",
       "      <td>17615.75</td>\n",
       "      <td>17616.50</td>\n",
       "      <td>2.0</td>\n",
       "      <td>1.0</td>\n",
       "      <td>1.0</td>\n",
       "      <td>1.0</td>\n",
       "      <td>1.0</td>\n",
       "      <td>-1.0</td>\n",
       "      <td>0.0</td>\n",
       "      <td>0.0</td>\n",
       "      <td>0.0</td>\n",
       "      <td>MgDUUUUDE</td>\n",
       "    </tr>\n",
       "    <tr>\n",
       "      <th>2024-01-24 01:44:00-05:00</th>\n",
       "      <td>17616.50</td>\n",
       "      <td>17617.75</td>\n",
       "      <td>17615.50</td>\n",
       "      <td>17617.50</td>\n",
       "      <td>4.0</td>\n",
       "      <td>1.0</td>\n",
       "      <td>4.0</td>\n",
       "      <td>1.0</td>\n",
       "      <td>0.0</td>\n",
       "      <td>0.0</td>\n",
       "      <td>0.0</td>\n",
       "      <td>0.0</td>\n",
       "      <td>0.0</td>\n",
       "      <td>MDDDDUUUUUUUUUDE</td>\n",
       "    </tr>\n",
       "    <tr>\n",
       "      <th>2024-01-24 01:45:00-05:00</th>\n",
       "      <td>17617.50</td>\n",
       "      <td>17630.50</td>\n",
       "      <td>17616.50</td>\n",
       "      <td>17630.50</td>\n",
       "      <td>NaN</td>\n",
       "      <td>NaN</td>\n",
       "      <td>NaN</td>\n",
       "      <td>NaN</td>\n",
       "      <td>NaN</td>\n",
       "      <td>NaN</td>\n",
       "      <td>NaN</td>\n",
       "      <td>NaN</td>\n",
       "      <td>NaN</td>\n",
       "      <td>DDDDUUUUUUUUUUDDDDDUUUUUUUUUUDDDDDUUUUUUUUUUDD...</td>\n",
       "    </tr>\n",
       "  </tbody>\n",
       "</table>\n",
       "</div>"
      ],
      "text/plain": [
       "                               open      high       low     close  body_size  \\\n",
       "2024-01-24 00:56:00-05:00  17605.50  17605.75  17604.25  17605.00        2.0   \n",
       "2024-01-24 00:57:00-05:00  17604.75  17605.00  17603.50  17603.50        5.0   \n",
       "2024-01-24 00:58:00-05:00  17603.25  17605.75  17603.00  17605.25        8.0   \n",
       "2024-01-24 00:59:00-05:00  17605.00  17605.75  17603.00  17603.25        7.0   \n",
       "2024-01-24 01:00:00-05:00  17603.50  17610.25  17603.50  17608.75       21.0   \n",
       "2024-01-24 01:01:00-05:00  17609.25  17612.50  17607.25  17607.50        7.0   \n",
       "2024-01-24 01:02:00-05:00  17607.75  17607.75  17600.75  17601.50       25.0   \n",
       "2024-01-24 01:03:00-05:00  17602.50  17606.25  17602.25  17605.25       11.0   \n",
       "2024-01-24 01:04:00-05:00  17605.75  17607.75  17604.75  17606.00        1.0   \n",
       "2024-01-24 01:05:00-05:00  17606.50  17612.25  17606.50  17612.25       23.0   \n",
       "2024-01-24 01:06:00-05:00  17612.50  17613.75  17611.00  17612.75        1.0   \n",
       "2024-01-24 01:07:00-05:00  17613.00  17613.00  17610.00  17610.50       10.0   \n",
       "2024-01-24 01:08:00-05:00  17610.75  17612.50  17610.25  17611.75        4.0   \n",
       "2024-01-24 01:09:00-05:00  17611.25  17611.50  17610.50  17611.00        1.0   \n",
       "2024-01-24 01:10:00-05:00  17611.00  17613.00  17610.50  17611.75        3.0   \n",
       "2024-01-24 01:11:00-05:00  17612.00  17614.75  17612.00  17614.50       10.0   \n",
       "2024-01-24 01:12:00-05:00  17614.75  17617.00  17614.50  17616.50        7.0   \n",
       "2024-01-24 01:13:00-05:00  17616.25  17617.00  17615.00  17616.50        1.0   \n",
       "2024-01-24 01:14:00-05:00  17616.50  17617.50  17615.00  17616.25        1.0   \n",
       "2024-01-24 01:15:00-05:00  17616.25  17617.25  17615.50  17616.00        1.0   \n",
       "2024-01-24 01:16:00-05:00  17616.00  17616.25  17614.00  17616.25        1.0   \n",
       "2024-01-24 01:17:00-05:00  17616.75  17617.25  17615.75  17615.75        4.0   \n",
       "2024-01-24 01:18:00-05:00  17615.25  17616.00  17614.50  17615.25        0.0   \n",
       "2024-01-24 01:19:00-05:00  17615.50  17617.75  17615.00  17616.75        5.0   \n",
       "2024-01-24 01:20:00-05:00  17616.25  17616.50  17614.75  17615.00        5.0   \n",
       "2024-01-24 01:21:00-05:00  17614.75  17615.75  17614.25  17614.50        1.0   \n",
       "2024-01-24 01:22:00-05:00  17614.50  17616.50  17614.50  17616.00        6.0   \n",
       "2024-01-24 01:23:00-05:00  17615.75  17621.75  17615.75  17617.50        7.0   \n",
       "2024-01-24 01:24:00-05:00  17617.50  17620.50  17617.50  17619.75        9.0   \n",
       "2024-01-24 01:25:00-05:00  17620.00  17621.00  17618.00  17619.25        3.0   \n",
       "2024-01-24 01:26:00-05:00  17619.50  17619.75  17619.00  17619.00        2.0   \n",
       "2024-01-24 01:27:00-05:00  17619.50  17619.75  17617.50  17617.50        8.0   \n",
       "2024-01-24 01:28:00-05:00  17617.75  17619.25  17617.25  17618.00        1.0   \n",
       "2024-01-24 01:29:00-05:00  17618.00  17618.50  17615.75  17615.75        9.0   \n",
       "2024-01-24 01:30:00-05:00  17616.50  17617.75  17615.75  17616.50        0.0   \n",
       "2024-01-24 01:31:00-05:00  17616.50  17618.25  17615.75  17618.00        6.0   \n",
       "2024-01-24 01:32:00-05:00  17617.50  17618.00  17612.00  17613.75       15.0   \n",
       "2024-01-24 01:33:00-05:00  17613.75  17616.00  17613.50  17613.50        1.0   \n",
       "2024-01-24 01:34:00-05:00  17613.75  17614.25  17612.50  17614.00        1.0   \n",
       "2024-01-24 01:35:00-05:00  17613.25  17615.50  17613.00  17614.00        3.0   \n",
       "2024-01-24 01:36:00-05:00  17614.50  17616.50  17614.00  17615.25        3.0   \n",
       "2024-01-24 01:37:00-05:00  17614.50  17615.25  17613.50  17615.25        3.0   \n",
       "2024-01-24 01:38:00-05:00  17616.00  17617.25  17616.00  17616.75        3.0   \n",
       "2024-01-24 01:39:00-05:00  17616.25  17617.75  17615.25  17617.50        5.0   \n",
       "2024-01-24 01:40:00-05:00  17617.50  17618.50  17616.75  17617.00        2.0   \n",
       "2024-01-24 01:41:00-05:00  17616.75  17616.75  17614.25  17615.25        6.0   \n",
       "2024-01-24 01:42:00-05:00  17614.75  17616.50  17614.75  17616.25        6.0   \n",
       "2024-01-24 01:43:00-05:00  17616.00  17616.75  17615.75  17616.50        2.0   \n",
       "2024-01-24 01:44:00-05:00  17616.50  17617.75  17615.50  17617.50        4.0   \n",
       "2024-01-24 01:45:00-05:00  17617.50  17630.50  17616.50  17630.50        NaN   \n",
       "\n",
       "                           top_wick  bottom_wick  direction  gap_size  \\\n",
       "2024-01-24 00:56:00-05:00       1.0          3.0       -1.0       0.0   \n",
       "2024-01-24 00:57:00-05:00       1.0          0.0       -1.0       1.0   \n",
       "2024-01-24 00:58:00-05:00       2.0          1.0        1.0       1.0   \n",
       "2024-01-24 00:59:00-05:00       3.0          1.0       -1.0       1.0   \n",
       "2024-01-24 01:00:00-05:00       6.0          0.0        1.0       1.0   \n",
       "2024-01-24 01:01:00-05:00      13.0          1.0       -1.0       2.0   \n",
       "2024-01-24 01:02:00-05:00       0.0          3.0       -1.0       1.0   \n",
       "2024-01-24 01:03:00-05:00       4.0          1.0        1.0       4.0   \n",
       "2024-01-24 01:04:00-05:00       7.0          4.0        1.0       2.0   \n",
       "2024-01-24 01:05:00-05:00       0.0          0.0        1.0       2.0   \n",
       "2024-01-24 01:06:00-05:00       4.0          6.0        1.0       1.0   \n",
       "2024-01-24 01:07:00-05:00       0.0          2.0       -1.0       1.0   \n",
       "2024-01-24 01:08:00-05:00       3.0          2.0        1.0       1.0   \n",
       "2024-01-24 01:09:00-05:00       1.0          2.0       -1.0       2.0   \n",
       "2024-01-24 01:10:00-05:00       5.0          2.0        1.0       0.0   \n",
       "2024-01-24 01:11:00-05:00       1.0          0.0        1.0       1.0   \n",
       "2024-01-24 01:12:00-05:00       2.0          1.0        1.0       1.0   \n",
       "2024-01-24 01:13:00-05:00       2.0          5.0        1.0       1.0   \n",
       "2024-01-24 01:14:00-05:00       4.0          5.0       -1.0       0.0   \n",
       "2024-01-24 01:15:00-05:00       4.0          2.0       -1.0       0.0   \n",
       "2024-01-24 01:16:00-05:00       0.0          8.0        1.0       0.0   \n",
       "2024-01-24 01:17:00-05:00       2.0          0.0       -1.0       2.0   \n",
       "2024-01-24 01:18:00-05:00       3.0          3.0        0.0       2.0   \n",
       "2024-01-24 01:19:00-05:00       4.0          2.0        1.0       1.0   \n",
       "2024-01-24 01:20:00-05:00       1.0          1.0       -1.0       2.0   \n",
       "2024-01-24 01:21:00-05:00       4.0          1.0       -1.0       1.0   \n",
       "2024-01-24 01:22:00-05:00       2.0          0.0        1.0       0.0   \n",
       "2024-01-24 01:23:00-05:00      17.0          0.0        1.0       1.0   \n",
       "2024-01-24 01:24:00-05:00       3.0          0.0        1.0       0.0   \n",
       "2024-01-24 01:25:00-05:00       4.0          5.0       -1.0       1.0   \n",
       "2024-01-24 01:26:00-05:00       1.0          0.0       -1.0       1.0   \n",
       "2024-01-24 01:27:00-05:00       1.0          0.0       -1.0       2.0   \n",
       "2024-01-24 01:28:00-05:00       5.0          2.0        1.0       1.0   \n",
       "2024-01-24 01:29:00-05:00       2.0          0.0       -1.0       0.0   \n",
       "2024-01-24 01:30:00-05:00       5.0          3.0        0.0       3.0   \n",
       "2024-01-24 01:31:00-05:00       1.0          3.0        1.0       0.0   \n",
       "2024-01-24 01:32:00-05:00       2.0          7.0       -1.0       2.0   \n",
       "2024-01-24 01:33:00-05:00       9.0          0.0       -1.0       0.0   \n",
       "2024-01-24 01:34:00-05:00       1.0          5.0        1.0       1.0   \n",
       "2024-01-24 01:35:00-05:00       6.0          1.0        1.0       3.0   \n",
       "2024-01-24 01:36:00-05:00       5.0          2.0        1.0       2.0   \n",
       "2024-01-24 01:37:00-05:00       0.0          4.0        1.0       3.0   \n",
       "2024-01-24 01:38:00-05:00       2.0          0.0        1.0       3.0   \n",
       "2024-01-24 01:39:00-05:00       1.0          4.0        1.0       2.0   \n",
       "2024-01-24 01:40:00-05:00       4.0          1.0       -1.0       0.0   \n",
       "2024-01-24 01:41:00-05:00       0.0          4.0       -1.0       1.0   \n",
       "2024-01-24 01:42:00-05:00       1.0          0.0        1.0       2.0   \n",
       "2024-01-24 01:43:00-05:00       1.0          1.0        1.0       1.0   \n",
       "2024-01-24 01:44:00-05:00       1.0          4.0        1.0       0.0   \n",
       "2024-01-24 01:45:00-05:00       NaN          NaN        NaN       NaN   \n",
       "\n",
       "                           gap_direction  hour_start  15min_start  5min_start  \\\n",
       "2024-01-24 00:56:00-05:00            0.0         0.0          0.0         0.0   \n",
       "2024-01-24 00:57:00-05:00           -1.0         0.0          0.0         0.0   \n",
       "2024-01-24 00:58:00-05:00           -1.0         0.0          0.0         0.0   \n",
       "2024-01-24 00:59:00-05:00           -1.0         0.0          0.0         0.0   \n",
       "2024-01-24 01:00:00-05:00            1.0         1.0          0.0         0.0   \n",
       "2024-01-24 01:01:00-05:00            1.0         0.0          0.0         0.0   \n",
       "2024-01-24 01:02:00-05:00            1.0         0.0          0.0         0.0   \n",
       "2024-01-24 01:03:00-05:00            1.0         0.0          0.0         0.0   \n",
       "2024-01-24 01:04:00-05:00            1.0         0.0          0.0         0.0   \n",
       "2024-01-24 01:05:00-05:00            1.0         0.0          0.0         1.0   \n",
       "2024-01-24 01:06:00-05:00            1.0         0.0          0.0         0.0   \n",
       "2024-01-24 01:07:00-05:00            1.0         0.0          0.0         0.0   \n",
       "2024-01-24 01:08:00-05:00            1.0         0.0          0.0         0.0   \n",
       "2024-01-24 01:09:00-05:00           -1.0         0.0          0.0         0.0   \n",
       "2024-01-24 01:10:00-05:00            0.0         0.0          0.0         1.0   \n",
       "2024-01-24 01:11:00-05:00            1.0         0.0          0.0         0.0   \n",
       "2024-01-24 01:12:00-05:00            1.0         0.0          0.0         0.0   \n",
       "2024-01-24 01:13:00-05:00           -1.0         0.0          0.0         0.0   \n",
       "2024-01-24 01:14:00-05:00            0.0         0.0          0.0         0.0   \n",
       "2024-01-24 01:15:00-05:00            0.0         0.0          1.0         1.0   \n",
       "2024-01-24 01:16:00-05:00            0.0         0.0          0.0         0.0   \n",
       "2024-01-24 01:17:00-05:00            1.0         0.0          0.0         0.0   \n",
       "2024-01-24 01:18:00-05:00           -1.0         0.0          0.0         0.0   \n",
       "2024-01-24 01:19:00-05:00            1.0         0.0          0.0         0.0   \n",
       "2024-01-24 01:20:00-05:00           -1.0         0.0          0.0         1.0   \n",
       "2024-01-24 01:21:00-05:00           -1.0         0.0          0.0         0.0   \n",
       "2024-01-24 01:22:00-05:00            0.0         0.0          0.0         0.0   \n",
       "2024-01-24 01:23:00-05:00           -1.0         0.0          0.0         0.0   \n",
       "2024-01-24 01:24:00-05:00            0.0         0.0          0.0         0.0   \n",
       "2024-01-24 01:25:00-05:00            1.0         0.0          0.0         1.0   \n",
       "2024-01-24 01:26:00-05:00            1.0         0.0          0.0         0.0   \n",
       "2024-01-24 01:27:00-05:00            1.0         0.0          0.0         0.0   \n",
       "2024-01-24 01:28:00-05:00            1.0         0.0          0.0         0.0   \n",
       "2024-01-24 01:29:00-05:00            0.0         0.0          0.0         0.0   \n",
       "2024-01-24 01:30:00-05:00            1.0         0.0          1.0         1.0   \n",
       "2024-01-24 01:31:00-05:00            0.0         0.0          0.0         0.0   \n",
       "2024-01-24 01:32:00-05:00           -1.0         0.0          0.0         0.0   \n",
       "2024-01-24 01:33:00-05:00            0.0         0.0          0.0         0.0   \n",
       "2024-01-24 01:34:00-05:00            1.0         0.0          0.0         0.0   \n",
       "2024-01-24 01:35:00-05:00           -1.0         0.0          0.0         1.0   \n",
       "2024-01-24 01:36:00-05:00            1.0         0.0          0.0         0.0   \n",
       "2024-01-24 01:37:00-05:00           -1.0         0.0          0.0         0.0   \n",
       "2024-01-24 01:38:00-05:00            1.0         0.0          0.0         0.0   \n",
       "2024-01-24 01:39:00-05:00           -1.0         0.0          0.0         0.0   \n",
       "2024-01-24 01:40:00-05:00            0.0         0.0          0.0         1.0   \n",
       "2024-01-24 01:41:00-05:00           -1.0         0.0          0.0         0.0   \n",
       "2024-01-24 01:42:00-05:00           -1.0         0.0          0.0         0.0   \n",
       "2024-01-24 01:43:00-05:00           -1.0         0.0          0.0         0.0   \n",
       "2024-01-24 01:44:00-05:00            0.0         0.0          0.0         0.0   \n",
       "2024-01-24 01:45:00-05:00            NaN         NaN          NaN         NaN   \n",
       "\n",
       "                                                                        move  \n",
       "2024-01-24 00:56:00-05:00                                       MUUUDDDDDDUE  \n",
       "2024-01-24 00:57:00-05:00                                         MgDDDDDDUE  \n",
       "2024-01-24 00:58:00-05:00                                  MgDUUUUUUUUUUUDDE  \n",
       "2024-01-24 00:59:00-05:00                                 MgUDDDDDDDDDDDUUUE  \n",
       "2024-01-24 01:00:00-05:00               HGUUUUUUUUUUUUUUUUUUUUUUUUUUUDDDDDDE  \n",
       "2024-01-24 01:01:00-05:00            MGGUDDDDDDDDDDDDDDDDDDDDDUUUUUUUUUUUUUE  \n",
       "2024-01-24 01:02:00-05:00                 MGUUUDDDDDDDDDDDDDDDDDDDDDDDDDDDDE  \n",
       "2024-01-24 01:03:00-05:00                        MGGGGDUUUUUUUUUUUUUUUUDDDDE  \n",
       "2024-01-24 01:04:00-05:00                        MGGDDDDUUUUUUUUUUUUDDDDDDDE  \n",
       "2024-01-24 01:05:00-05:00                        FGGUUUUUUUUUUUUUUUUUUUUUUUE  \n",
       "2024-01-24 01:06:00-05:00                           MGDDDDDDUUUUUUUUUUUDDDDE  \n",
       "2024-01-24 01:07:00-05:00                                  MGUUDDDDDDDDDDDDE  \n",
       "2024-01-24 01:08:00-05:00                                  MGDDUUUUUUUUUDDDE  \n",
       "2024-01-24 01:09:00-05:00                                        MggUUDDDDUE  \n",
       "2024-01-24 01:10:00-05:00                                FDDUUUUUUUUUUDDDDDE  \n",
       "2024-01-24 01:11:00-05:00                                    MGUUUUUUUUUUUDE  \n",
       "2024-01-24 01:12:00-05:00                                   MGDUUUUUUUUUUDDE  \n",
       "2024-01-24 01:13:00-05:00                                 MgDDDDDUUUUUUUUDDE  \n",
       "2024-01-24 01:14:00-05:00                              MUUUUUDDDDDDDDDDUUUUE  \n",
       "2024-01-24 01:15:00-05:00                                    QUUDDDDDDDUUUUE  \n",
       "2024-01-24 01:16:00-05:00                                MDDDDDDDDUUUUUUUUUE  \n",
       "2024-01-24 01:17:00-05:00                                       MGGDDDDDDUUE  \n",
       "2024-01-24 01:18:00-05:00                                   MggDDDUUUUUUDDDE  \n",
       "2024-01-24 01:19:00-05:00                               MGDDUUUUUUUUUUUDDDDE  \n",
       "2024-01-24 01:20:00-05:00                                      FggUDDDDDDDUE  \n",
       "2024-01-24 01:21:00-05:00                                     MgUDDDDDDUUUUE  \n",
       "2024-01-24 01:22:00-05:00                                       MUUUUUUUUDDE  \n",
       "2024-01-24 01:23:00-05:00       MgUUUUUUUUUUUUUUUUUUUUUUUUDDDDDDDDDDDDDDDDDE  \n",
       "2024-01-24 01:24:00-05:00                                  MUUUUUUUUUUUUDDDE  \n",
       "2024-01-24 01:25:00-05:00                           FGUUUUUDDDDDDDDDDDDUUUUE  \n",
       "2024-01-24 01:26:00-05:00                                            MGDDDUE  \n",
       "2024-01-24 01:27:00-05:00                                     MGGDDDDDDDDDUE  \n",
       "2024-01-24 01:28:00-05:00                                 MGDDUUUUUUUUDDDDDE  \n",
       "2024-01-24 01:29:00-05:00                                    MDDDDDDDDDDDUUE  \n",
       "2024-01-24 01:30:00-05:00                              QGGGDDDUUUUUUUUDDDDDE  \n",
       "2024-01-24 01:31:00-05:00                                   MDDDUUUUUUUUUUDE  \n",
       "2024-01-24 01:32:00-05:00              MggUUUUUUUDDDDDDDDDDDDDDDDDDDDDDDDUUE  \n",
       "2024-01-24 01:33:00-05:00                              MDDDDDDDDDDUUUUUUUUUE  \n",
       "2024-01-24 01:34:00-05:00                                   MGDDDDDUUUUUUUDE  \n",
       "2024-01-24 01:35:00-05:00                             FgggDUUUUUUUUUUDDDDDDE  \n",
       "2024-01-24 01:36:00-05:00                              MGGDDUUUUUUUUUUDDDDDE  \n",
       "2024-01-24 01:37:00-05:00                                   MgggDDDDUUUUUUUE  \n",
       "2024-01-24 01:38:00-05:00                                       MGGGUUUUUDDE  \n",
       "2024-01-24 01:39:00-05:00                                MggDDDDUUUUUUUUUUDE  \n",
       "2024-01-24 01:40:00-05:00                                     FUDDDDDDDUUUUE  \n",
       "2024-01-24 01:41:00-05:00                                  MgUUUUDDDDDDDDDDE  \n",
       "2024-01-24 01:42:00-05:00                                       MggUUUUUUUDE  \n",
       "2024-01-24 01:43:00-05:00                                          MgDUUUUDE  \n",
       "2024-01-24 01:44:00-05:00                                   MDDDDUUUUUUUUUDE  \n",
       "2024-01-24 01:45:00-05:00  DDDDUUUUUUUUUUDDDDDUUUUUUUUUUDDDDDUUUUUUUUUUDD...  "
      ]
     },
     "execution_count": 38,
     "metadata": {},
     "output_type": "execute_result"
    }
   ],
   "source": [
    "nq"
   ]
  }
 ],
 "metadata": {
  "kernelspec": {
   "display_name": "Python 3",
   "language": "python",
   "name": "python3"
  },
  "language_info": {
   "codemirror_mode": {
    "name": "ipython",
    "version": 3
   },
   "file_extension": ".py",
   "mimetype": "text/x-python",
   "name": "python",
   "nbconvert_exporter": "python",
   "pygments_lexer": "ipython3",
   "version": "3.11.7"
  }
 },
 "nbformat": 4,
 "nbformat_minor": 2
}
